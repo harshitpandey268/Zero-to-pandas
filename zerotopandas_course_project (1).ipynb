{
  "cells": [
    {
      "cell_type": "markdown",
      "metadata": {
        "id": "ROENfCYRlSKs"
      },
      "source": [
        "Analysis of Video Games Sales as our Final Project for the Course Data Analysis- Zero to pandas which is offered by Jovian. \n",
        "\n"
      ]
    },
    {
      "cell_type": "code",
      "execution_count": null,
      "metadata": {
        "colab": {
          "base_uri": "https://localhost:8080/"
        },
        "id": "-MZkKr-am45q",
        "outputId": "43314df4-c429-4270-9351-d2919f95187d"
      },
      "outputs": [
        {
          "name": "stdout",
          "output_type": "stream",
          "text": [
            "\u001b[?25l\r\u001b[K     |████▊                           | 10 kB 21.2 MB/s eta 0:00:01\r\u001b[K     |█████████▌                      | 20 kB 25.0 MB/s eta 0:00:01\r\u001b[K     |██████████████▎                 | 30 kB 14.2 MB/s eta 0:00:01\r\u001b[K     |███████████████████             | 40 kB 10.4 MB/s eta 0:00:01\r\u001b[K     |███████████████████████▉        | 51 kB 5.3 MB/s eta 0:00:01\r\u001b[K     |████████████████████████████▋   | 61 kB 6.1 MB/s eta 0:00:01\r\u001b[K     |████████████████████████████████| 68 kB 2.9 MB/s \n",
            "\u001b[?25h  Building wheel for uuid (setup.py) ... \u001b[?25l\u001b[?25hdone\n"
          ]
        }
      ],
      "source": [
        "!pip install jovian --upgrade -q\n",
        "import jovian\n",
        "jovian.set_project('vediogamesales-1')\n",
        "jovian.set_colab_id('1blm3jXz_5jEd8LwEHjtlURDObkcGnP_B')"
      ]
    },
    {
      "cell_type": "markdown",
      "metadata": {
        "id": "TKDofCuaYZpX"
      },
      "source": [
        "Data Analysis of Vedio Games Sales\n",
        "\n",
        "DataSet is of vedio games sales which I have downloaded from Kaggle using opendatasets. I'll be using OS, Numpy, Pandas, Matplotlib, Seaborn library in this project to analyse the dataset by visualizing and performing computation operations."
      ]
    },
    {
      "cell_type": "markdown",
      "metadata": {
        "id": "ClUzls_YYZpa"
      },
      "source": [
        "We are download the dataset from kaggle using opendatasets module ."
      ]
    },
    {
      "cell_type": "code",
      "execution_count": null,
      "metadata": {
        "id": "2ZcC5lehYZpc"
      },
      "outputs": [],
      "source": [
        "!pip install jovian opendatasets --upgrade --quiet"
      ]
    },
    {
      "cell_type": "markdown",
      "metadata": {
        "id": "VUBACdUnYZpd"
      },
      "source": [
        "Let's begin by downloading the data, and listing the files within the dataset."
      ]
    },
    {
      "cell_type": "code",
      "execution_count": null,
      "metadata": {
        "id": "InYeAfWWYZpf"
      },
      "outputs": [],
      "source": [
        "dataset_url = 'https://www.kaggle.com/kedokedokedo/vgsales' "
      ]
    },
    {
      "cell_type": "markdown",
      "metadata": {
        "id": "VS2U1ckfWEgJ"
      },
      "source": [
        "Here, We are Pasting the URL of our dataset by the varaible name dataset_url."
      ]
    },
    {
      "cell_type": "code",
      "execution_count": null,
      "metadata": {
        "colab": {
          "base_uri": "https://localhost:8080/"
        },
        "id": "MxRORobRYZph",
        "outputId": "1ff05216-d419-4eee-a41f-79201def21a0"
      },
      "outputs": [
        {
          "name": "stdout",
          "output_type": "stream",
          "text": [
            "Please provide your Kaggle credentials to download this dataset. Learn more: http://bit.ly/kaggle-creds\n",
            "Your Kaggle username: harshitpandey88\n",
            "Your Kaggle Key: ··········\n",
            "Downloading vgsales.zip to ./vgsales\n"
          ]
        },
        {
          "name": "stderr",
          "output_type": "stream",
          "text": [
            "100%|██████████| 356k/356k [00:00<00:00, 65.5MB/s]"
          ]
        },
        {
          "name": "stdout",
          "output_type": "stream",
          "text": [
            "\n"
          ]
        },
        {
          "name": "stderr",
          "output_type": "stream",
          "text": [
            "\n"
          ]
        }
      ],
      "source": [
        "import opendatasets as od\n",
        "od.download(dataset_url)"
      ]
    },
    {
      "cell_type": "markdown",
      "metadata": {
        "id": "ExrphtDmXBe3"
      },
      "source": [
        "Now, here we have downloaded the dataset by importing a library 'opendatasets', which has function od.download(). "
      ]
    },
    {
      "cell_type": "markdown",
      "metadata": {
        "id": "OfvK841zYZpk"
      },
      "source": [
        "The dataset has been downloaded and extracted."
      ]
    },
    {
      "cell_type": "code",
      "execution_count": null,
      "metadata": {
        "id": "-xK-4BycYZpl"
      },
      "outputs": [],
      "source": [
        "data_dir = './vgsales'"
      ]
    },
    {
      "cell_type": "code",
      "execution_count": null,
      "metadata": {
        "colab": {
          "base_uri": "https://localhost:8080/"
        },
        "id": "ofgdzFfBYZpm",
        "outputId": "312155a7-af05-4936-f747-3c3632757bab"
      },
      "outputs": [
        {
          "data": {
            "text/plain": [
              "['vgsales.csv']"
            ]
          },
          "execution_count": 6,
          "metadata": {},
          "output_type": "execute_result"
        }
      ],
      "source": [
        "import os\n",
        "os.listdir(data_dir)"
      ]
    },
    {
      "cell_type": "markdown",
      "metadata": {
        "id": "_cM8MSxyXZEJ"
      },
      "source": [
        "Now, we will import our OS module to check whether the specified path is an existing directory or not."
      ]
    },
    {
      "cell_type": "markdown",
      "metadata": {
        "id": "GANVSpiwYZpn"
      },
      "source": [
        "Let us save and upload our work to Jovian before continuing."
      ]
    },
    {
      "cell_type": "code",
      "execution_count": null,
      "metadata": {
        "id": "5u_MZX02YZpo"
      },
      "outputs": [],
      "source": [
        "project_name = \"zerotopandas-course-project-vediogamesales\" "
      ]
    },
    {
      "cell_type": "markdown",
      "metadata": {
        "id": "aopyz8f-X8Fi"
      },
      "source": [
        "We will save our project with the name of the dataset. "
      ]
    },
    {
      "cell_type": "code",
      "execution_count": null,
      "metadata": {
        "id": "8FgLRL9JYZpo"
      },
      "outputs": [],
      "source": [
        "!pip install jovian --upgrade -q"
      ]
    },
    {
      "cell_type": "code",
      "execution_count": null,
      "metadata": {
        "id": "jdZCs3zOYZpp"
      },
      "outputs": [],
      "source": [
        "import jovian"
      ]
    },
    {
      "cell_type": "markdown",
      "metadata": {
        "id": "TAvJyw61YQEY"
      },
      "source": [
        "importing the jovian module to the collab sheet to connect to our jovian account."
      ]
    },
    {
      "cell_type": "code",
      "execution_count": null,
      "metadata": {
        "colab": {
          "base_uri": "https://localhost:8080/",
          "height": 122
        },
        "id": "s4qOPBcoYZpq",
        "outputId": "1e98f3ba-a2d3-4366-f8b4-7164bd03b86f"
      },
      "outputs": [
        {
          "name": "stdout",
          "output_type": "stream",
          "text": [
            "[jovian] Detected Colab notebook...\u001b[0m\n",
            "[jovian] Please enter your API key ( from https://jovian.ai/ ):\u001b[0m\n",
            "API KEY: ··········\n",
            "[jovian] Uploading colab notebook to Jovian...\u001b[0m\n",
            "Committed successfully! https://jovian.ai/pandeyharshit268/vediogamesales\n"
          ]
        },
        {
          "data": {
            "application/vnd.google.colaboratory.intrinsic+json": {
              "type": "string"
            },
            "text/plain": [
              "'https://jovian.ai/pandeyharshit268/vediogamesales'"
            ]
          },
          "execution_count": 10,
          "metadata": {},
          "output_type": "execute_result"
        }
      ],
      "source": [
        "jovian.commit(project= 'vediogamesales')"
      ]
    },
    {
      "cell_type": "markdown",
      "metadata": {
        "id": "v6QRnj08Ycnn"
      },
      "source": [
        "Now, we have successfully saved our project to the jovian account using the command jovian.commit(project_name)\n",
        ":"
      ]
    },
    {
      "cell_type": "markdown",
      "metadata": {
        "id": "Zbj-5IPmYZpu"
      },
      "source": [
        "Hence, the dataset is containing info about the sales of vedio games in different genre , publisher of vedio game, platform the game will support.\n",
        "\n"
      ]
    },
    {
      "cell_type": "markdown",
      "metadata": {
        "id": "hhaPcEr6ZErS"
      },
      "source": [
        "Let's first load the dataset into the dataframe using pandas."
      ]
    },
    {
      "cell_type": "code",
      "execution_count": null,
      "metadata": {
        "colab": {
          "background_save": true,
          "base_uri": "https://localhost:8080/",
          "resources": {
            "http://localhost:8080/nbextensions/google.colab/files.js": {
              "data": "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",
              "headers": [
                [
                  "content-type",
                  "application/javascript"
                ]
              ],
              "ok": true,
              "status": 200,
              "status_text": ""
            }
          }
        },
        "id": "9a_Xez0JYZpv",
        "outputId": "23c25054-345b-4a60-92d3-899e1775f3a9"
      },
      "outputs": [
        {
          "data": {
            "text/html": [
              "\n",
              "     <input type=\"file\" id=\"files-9bc6a2cb-8a05-4416-84e4-aa9754042ad4\" name=\"files[]\" multiple disabled\n",
              "        style=\"border:none\" />\n",
              "     <output id=\"result-9bc6a2cb-8a05-4416-84e4-aa9754042ad4\">\n",
              "      Upload widget is only available when the cell has been executed in the\n",
              "      current browser session. Please rerun this cell to enable.\n",
              "      </output>\n",
              "      <script src=\"/nbextensions/google.colab/files.js\"></script> "
            ],
            "text/plain": [
              "<IPython.core.display.HTML object>"
            ]
          },
          "metadata": {},
          "output_type": "display_data"
        }
      ],
      "source": [
        "from google.colab import files\n",
        "\n",
        "files.upload()"
      ]
    },
    {
      "cell_type": "markdown",
      "metadata": {
        "id": "6_H2nHMHYzcU"
      },
      "source": [
        "Now, here we have uploaded our dataset to the collab sheet."
      ]
    },
    {
      "cell_type": "code",
      "execution_count": null,
      "metadata": {
        "colab": {
          "base_uri": "https://localhost:8080/",
          "height": 423
        },
        "id": "zaY-tzE7YZpw",
        "outputId": "094dd8fd-d4a9-4a11-94b7-5e2bcaa35737"
      },
      "outputs": [
        {
          "data": {
            "text/html": [
              "\n",
              "  <div id=\"df-9bcf7621-20e3-4453-b8d1-fe331c9eb4e4\">\n",
              "    <div class=\"colab-df-container\">\n",
              "      <div>\n",
              "<style scoped>\n",
              "    .dataframe tbody tr th:only-of-type {\n",
              "        vertical-align: middle;\n",
              "    }\n",
              "\n",
              "    .dataframe tbody tr th {\n",
              "        vertical-align: top;\n",
              "    }\n",
              "\n",
              "    .dataframe thead th {\n",
              "        text-align: right;\n",
              "    }\n",
              "</style>\n",
              "<table border=\"1\" class=\"dataframe\">\n",
              "  <thead>\n",
              "    <tr style=\"text-align: right;\">\n",
              "      <th></th>\n",
              "      <th>Rank</th>\n",
              "      <th>Name</th>\n",
              "      <th>Platform</th>\n",
              "      <th>Year</th>\n",
              "      <th>Genre</th>\n",
              "      <th>Publisher</th>\n",
              "      <th>NA_Sales</th>\n",
              "      <th>EU_Sales</th>\n",
              "      <th>JP_Sales</th>\n",
              "      <th>Other_Sales</th>\n",
              "      <th>Global_Sales</th>\n",
              "    </tr>\n",
              "  </thead>\n",
              "  <tbody>\n",
              "    <tr>\n",
              "      <th>0</th>\n",
              "      <td>1</td>\n",
              "      <td>Wii Sports</td>\n",
              "      <td>Wii</td>\n",
              "      <td>2006.0</td>\n",
              "      <td>Sports</td>\n",
              "      <td>Nintendo</td>\n",
              "      <td>41.49</td>\n",
              "      <td>29.02</td>\n",
              "      <td>3.77</td>\n",
              "      <td>8.46</td>\n",
              "      <td>82.74</td>\n",
              "    </tr>\n",
              "    <tr>\n",
              "      <th>1</th>\n",
              "      <td>2</td>\n",
              "      <td>Super Mario Bros.</td>\n",
              "      <td>NES</td>\n",
              "      <td>1985.0</td>\n",
              "      <td>Platform</td>\n",
              "      <td>Nintendo</td>\n",
              "      <td>29.08</td>\n",
              "      <td>3.58</td>\n",
              "      <td>6.81</td>\n",
              "      <td>0.77</td>\n",
              "      <td>40.24</td>\n",
              "    </tr>\n",
              "    <tr>\n",
              "      <th>2</th>\n",
              "      <td>3</td>\n",
              "      <td>Mario Kart Wii</td>\n",
              "      <td>Wii</td>\n",
              "      <td>2008.0</td>\n",
              "      <td>Racing</td>\n",
              "      <td>Nintendo</td>\n",
              "      <td>15.85</td>\n",
              "      <td>12.88</td>\n",
              "      <td>3.79</td>\n",
              "      <td>3.31</td>\n",
              "      <td>35.82</td>\n",
              "    </tr>\n",
              "    <tr>\n",
              "      <th>3</th>\n",
              "      <td>4</td>\n",
              "      <td>Wii Sports Resort</td>\n",
              "      <td>Wii</td>\n",
              "      <td>2009.0</td>\n",
              "      <td>Sports</td>\n",
              "      <td>Nintendo</td>\n",
              "      <td>15.75</td>\n",
              "      <td>11.01</td>\n",
              "      <td>3.28</td>\n",
              "      <td>2.96</td>\n",
              "      <td>33.00</td>\n",
              "    </tr>\n",
              "    <tr>\n",
              "      <th>4</th>\n",
              "      <td>5</td>\n",
              "      <td>Pokemon Red/Pokemon Blue</td>\n",
              "      <td>GB</td>\n",
              "      <td>1996.0</td>\n",
              "      <td>Role-Playing</td>\n",
              "      <td>Nintendo</td>\n",
              "      <td>11.27</td>\n",
              "      <td>8.89</td>\n",
              "      <td>10.22</td>\n",
              "      <td>1.00</td>\n",
              "      <td>31.37</td>\n",
              "    </tr>\n",
              "    <tr>\n",
              "      <th>...</th>\n",
              "      <td>...</td>\n",
              "      <td>...</td>\n",
              "      <td>...</td>\n",
              "      <td>...</td>\n",
              "      <td>...</td>\n",
              "      <td>...</td>\n",
              "      <td>...</td>\n",
              "      <td>...</td>\n",
              "      <td>...</td>\n",
              "      <td>...</td>\n",
              "      <td>...</td>\n",
              "    </tr>\n",
              "    <tr>\n",
              "      <th>16593</th>\n",
              "      <td>16596</td>\n",
              "      <td>Woody Woodpecker in Crazy Castle 5</td>\n",
              "      <td>GBA</td>\n",
              "      <td>2002.0</td>\n",
              "      <td>Platform</td>\n",
              "      <td>Kemco</td>\n",
              "      <td>0.01</td>\n",
              "      <td>0.00</td>\n",
              "      <td>0.00</td>\n",
              "      <td>0.00</td>\n",
              "      <td>0.01</td>\n",
              "    </tr>\n",
              "    <tr>\n",
              "      <th>16594</th>\n",
              "      <td>16597</td>\n",
              "      <td>Men in Black II: Alien Escape</td>\n",
              "      <td>GC</td>\n",
              "      <td>2003.0</td>\n",
              "      <td>Shooter</td>\n",
              "      <td>Infogrames</td>\n",
              "      <td>0.01</td>\n",
              "      <td>0.00</td>\n",
              "      <td>0.00</td>\n",
              "      <td>0.00</td>\n",
              "      <td>0.01</td>\n",
              "    </tr>\n",
              "    <tr>\n",
              "      <th>16595</th>\n",
              "      <td>16598</td>\n",
              "      <td>SCORE International Baja 1000: The Official Game</td>\n",
              "      <td>PS2</td>\n",
              "      <td>2008.0</td>\n",
              "      <td>Racing</td>\n",
              "      <td>Activision</td>\n",
              "      <td>0.00</td>\n",
              "      <td>0.00</td>\n",
              "      <td>0.00</td>\n",
              "      <td>0.00</td>\n",
              "      <td>0.01</td>\n",
              "    </tr>\n",
              "    <tr>\n",
              "      <th>16596</th>\n",
              "      <td>16599</td>\n",
              "      <td>Know How 2</td>\n",
              "      <td>DS</td>\n",
              "      <td>2010.0</td>\n",
              "      <td>Puzzle</td>\n",
              "      <td>7G//AMES</td>\n",
              "      <td>0.00</td>\n",
              "      <td>0.01</td>\n",
              "      <td>0.00</td>\n",
              "      <td>0.00</td>\n",
              "      <td>0.01</td>\n",
              "    </tr>\n",
              "    <tr>\n",
              "      <th>16597</th>\n",
              "      <td>16600</td>\n",
              "      <td>Spirits &amp; Spells</td>\n",
              "      <td>GBA</td>\n",
              "      <td>2003.0</td>\n",
              "      <td>Platform</td>\n",
              "      <td>Wanadoo</td>\n",
              "      <td>0.01</td>\n",
              "      <td>0.00</td>\n",
              "      <td>0.00</td>\n",
              "      <td>0.00</td>\n",
              "      <td>0.01</td>\n",
              "    </tr>\n",
              "  </tbody>\n",
              "</table>\n",
              "<p>16598 rows × 11 columns</p>\n",
              "</div>\n",
              "      <button class=\"colab-df-convert\" onclick=\"convertToInteractive('df-9bcf7621-20e3-4453-b8d1-fe331c9eb4e4')\"\n",
              "              title=\"Convert this dataframe to an interactive table.\"\n",
              "              style=\"display:none;\">\n",
              "        \n",
              "  <svg xmlns=\"http://www.w3.org/2000/svg\" height=\"24px\"viewBox=\"0 0 24 24\"\n",
              "       width=\"24px\">\n",
              "    <path d=\"M0 0h24v24H0V0z\" fill=\"none\"/>\n",
              "    <path d=\"M18.56 5.44l.94 2.06.94-2.06 2.06-.94-2.06-.94-.94-2.06-.94 2.06-2.06.94zm-11 1L8.5 8.5l.94-2.06 2.06-.94-2.06-.94L8.5 2.5l-.94 2.06-2.06.94zm10 10l.94 2.06.94-2.06 2.06-.94-2.06-.94-.94-2.06-.94 2.06-2.06.94z\"/><path d=\"M17.41 7.96l-1.37-1.37c-.4-.4-.92-.59-1.43-.59-.52 0-1.04.2-1.43.59L10.3 9.45l-7.72 7.72c-.78.78-.78 2.05 0 2.83L4 21.41c.39.39.9.59 1.41.59.51 0 1.02-.2 1.41-.59l7.78-7.78 2.81-2.81c.8-.78.8-2.07 0-2.86zM5.41 20L4 18.59l7.72-7.72 1.47 1.35L5.41 20z\"/>\n",
              "  </svg>\n",
              "      </button>\n",
              "      \n",
              "  <style>\n",
              "    .colab-df-container {\n",
              "      display:flex;\n",
              "      flex-wrap:wrap;\n",
              "      gap: 12px;\n",
              "    }\n",
              "\n",
              "    .colab-df-convert {\n",
              "      background-color: #E8F0FE;\n",
              "      border: none;\n",
              "      border-radius: 50%;\n",
              "      cursor: pointer;\n",
              "      display: none;\n",
              "      fill: #1967D2;\n",
              "      height: 32px;\n",
              "      padding: 0 0 0 0;\n",
              "      width: 32px;\n",
              "    }\n",
              "\n",
              "    .colab-df-convert:hover {\n",
              "      background-color: #E2EBFA;\n",
              "      box-shadow: 0px 1px 2px rgba(60, 64, 67, 0.3), 0px 1px 3px 1px rgba(60, 64, 67, 0.15);\n",
              "      fill: #174EA6;\n",
              "    }\n",
              "\n",
              "    [theme=dark] .colab-df-convert {\n",
              "      background-color: #3B4455;\n",
              "      fill: #D2E3FC;\n",
              "    }\n",
              "\n",
              "    [theme=dark] .colab-df-convert:hover {\n",
              "      background-color: #434B5C;\n",
              "      box-shadow: 0px 1px 3px 1px rgba(0, 0, 0, 0.15);\n",
              "      filter: drop-shadow(0px 1px 2px rgba(0, 0, 0, 0.3));\n",
              "      fill: #FFFFFF;\n",
              "    }\n",
              "  </style>\n",
              "\n",
              "      <script>\n",
              "        const buttonEl =\n",
              "          document.querySelector('#df-9bcf7621-20e3-4453-b8d1-fe331c9eb4e4 button.colab-df-convert');\n",
              "        buttonEl.style.display =\n",
              "          google.colab.kernel.accessAllowed ? 'block' : 'none';\n",
              "\n",
              "        async function convertToInteractive(key) {\n",
              "          const element = document.querySelector('#df-9bcf7621-20e3-4453-b8d1-fe331c9eb4e4');\n",
              "          const dataTable =\n",
              "            await google.colab.kernel.invokeFunction('convertToInteractive',\n",
              "                                                     [key], {});\n",
              "          if (!dataTable) return;\n",
              "\n",
              "          const docLinkHtml = 'Like what you see? Visit the ' +\n",
              "            '<a target=\"_blank\" href=https://colab.research.google.com/notebooks/data_table.ipynb>data table notebook</a>'\n",
              "            + ' to learn more about interactive tables.';\n",
              "          element.innerHTML = '';\n",
              "          dataTable['output_type'] = 'display_data';\n",
              "          await google.colab.output.renderOutput(dataTable, element);\n",
              "          const docLink = document.createElement('div');\n",
              "          docLink.innerHTML = docLinkHtml;\n",
              "          element.appendChild(docLink);\n",
              "        }\n",
              "      </script>\n",
              "    </div>\n",
              "  </div>\n",
              "  "
            ],
            "text/plain": [
              "        Rank  ... Global_Sales\n",
              "0          1  ...        82.74\n",
              "1          2  ...        40.24\n",
              "2          3  ...        35.82\n",
              "3          4  ...        33.00\n",
              "4          5  ...        31.37\n",
              "...      ...  ...          ...\n",
              "16593  16596  ...         0.01\n",
              "16594  16597  ...         0.01\n",
              "16595  16598  ...         0.01\n",
              "16596  16599  ...         0.01\n",
              "16597  16600  ...         0.01\n",
              "\n",
              "[16598 rows x 11 columns]"
            ]
          },
          "execution_count": 12,
          "metadata": {},
          "output_type": "execute_result"
        }
      ],
      "source": [
        "import pandas as pd\n",
        "vg_sales_df = pd.read_csv('vgsales.csv')\n",
        "vg_sales_df"
      ]
    },
    {
      "cell_type": "markdown",
      "metadata": {
        "id": "HWJ7TP7pZBN2"
      },
      "source": [
        "Now, here we will import the pandas module to read the dataset(csv file) using pd.read_csv command in the pandas module."
      ]
    },
    {
      "cell_type": "markdown",
      "metadata": {
        "id": "GzqHa0pjkFvc"
      },
      "source": [
        "Now, here we have came to know our dataset has been loaded and it contains 16598 row and 11 columns."
      ]
    },
    {
      "cell_type": "code",
      "execution_count": null,
      "metadata": {
        "colab": {
          "base_uri": "https://localhost:8080/"
        },
        "id": "gRDjtwf8YZpx",
        "outputId": "339b4dcb-eece-40df-a45f-900f02f73af7"
      },
      "outputs": [
        {
          "data": {
            "text/plain": [
              "Index(['Rank', 'Name', 'Platform', 'Year', 'Genre', 'Publisher', 'NA_Sales',\n",
              "       'EU_Sales', 'JP_Sales', 'Other_Sales', 'Global_Sales'],\n",
              "      dtype='object')"
            ]
          },
          "execution_count": 13,
          "metadata": {},
          "output_type": "execute_result"
        }
      ],
      "source": [
        "vg_sales_df.columns"
      ]
    },
    {
      "cell_type": "markdown",
      "metadata": {
        "id": "-lLCqWSbZ6AB"
      },
      "source": [
        "Now, we want to know the columns name of the dataset which we have uploaded. So, get it know from the above code. "
      ]
    },
    {
      "cell_type": "code",
      "execution_count": null,
      "metadata": {
        "id": "M6YRWSApYZpx"
      },
      "outputs": [],
      "source": [
        "select_columns = ['Name' , 'Platform' , 'Year' , 'Genre' , 'Publisher' , 'Global_Sales'] #we have selected few columns from the dataset, now let us check the Number of columns."
      ]
    },
    {
      "cell_type": "markdown",
      "metadata": {
        "id": "Vw_8r1ZXabCj"
      },
      "source": [
        "Now, let us select some of the columns from the dataset."
      ]
    },
    {
      "cell_type": "code",
      "execution_count": null,
      "metadata": {
        "colab": {
          "base_uri": "https://localhost:8080/"
        },
        "id": "A9-PZ_3oYZpx",
        "outputId": "667b64e6-9120-4484-853a-686c34c86520"
      },
      "outputs": [
        {
          "data": {
            "text/plain": [
              "6"
            ]
          },
          "execution_count": 15,
          "metadata": {},
          "output_type": "execute_result"
        }
      ],
      "source": [
        "len(select_columns)"
      ]
    },
    {
      "cell_type": "markdown",
      "metadata": {
        "id": "BcNbSqPUmEnG"
      },
      "source": [
        "It's clear that 6 columns has been selected"
      ]
    },
    {
      "cell_type": "markdown",
      "metadata": {
        "id": "RNucwINLmd0f"
      },
      "source": [
        "Now, Let us extract the data of these selected columns from the existing dataset."
      ]
    },
    {
      "cell_type": "code",
      "execution_count": null,
      "metadata": {
        "colab": {
          "base_uri": "https://localhost:8080/",
          "height": 423
        },
        "id": "KhGGm4FFmQbc",
        "outputId": "fdad4f65-c890-4a81-dd89-aad72ec3a6e2"
      },
      "outputs": [
        {
          "data": {
            "text/html": [
              "\n",
              "  <div id=\"df-4f77feb9-7fb4-41f4-a2e4-dbdb5b5c9110\">\n",
              "    <div class=\"colab-df-container\">\n",
              "      <div>\n",
              "<style scoped>\n",
              "    .dataframe tbody tr th:only-of-type {\n",
              "        vertical-align: middle;\n",
              "    }\n",
              "\n",
              "    .dataframe tbody tr th {\n",
              "        vertical-align: top;\n",
              "    }\n",
              "\n",
              "    .dataframe thead th {\n",
              "        text-align: right;\n",
              "    }\n",
              "</style>\n",
              "<table border=\"1\" class=\"dataframe\">\n",
              "  <thead>\n",
              "    <tr style=\"text-align: right;\">\n",
              "      <th></th>\n",
              "      <th>Name</th>\n",
              "      <th>Platform</th>\n",
              "      <th>Year</th>\n",
              "      <th>Genre</th>\n",
              "      <th>Publisher</th>\n",
              "      <th>Global_Sales</th>\n",
              "    </tr>\n",
              "  </thead>\n",
              "  <tbody>\n",
              "    <tr>\n",
              "      <th>0</th>\n",
              "      <td>Wii Sports</td>\n",
              "      <td>Wii</td>\n",
              "      <td>2006.0</td>\n",
              "      <td>Sports</td>\n",
              "      <td>Nintendo</td>\n",
              "      <td>82.74</td>\n",
              "    </tr>\n",
              "    <tr>\n",
              "      <th>1</th>\n",
              "      <td>Super Mario Bros.</td>\n",
              "      <td>NES</td>\n",
              "      <td>1985.0</td>\n",
              "      <td>Platform</td>\n",
              "      <td>Nintendo</td>\n",
              "      <td>40.24</td>\n",
              "    </tr>\n",
              "    <tr>\n",
              "      <th>2</th>\n",
              "      <td>Mario Kart Wii</td>\n",
              "      <td>Wii</td>\n",
              "      <td>2008.0</td>\n",
              "      <td>Racing</td>\n",
              "      <td>Nintendo</td>\n",
              "      <td>35.82</td>\n",
              "    </tr>\n",
              "    <tr>\n",
              "      <th>3</th>\n",
              "      <td>Wii Sports Resort</td>\n",
              "      <td>Wii</td>\n",
              "      <td>2009.0</td>\n",
              "      <td>Sports</td>\n",
              "      <td>Nintendo</td>\n",
              "      <td>33.00</td>\n",
              "    </tr>\n",
              "    <tr>\n",
              "      <th>4</th>\n",
              "      <td>Pokemon Red/Pokemon Blue</td>\n",
              "      <td>GB</td>\n",
              "      <td>1996.0</td>\n",
              "      <td>Role-Playing</td>\n",
              "      <td>Nintendo</td>\n",
              "      <td>31.37</td>\n",
              "    </tr>\n",
              "    <tr>\n",
              "      <th>...</th>\n",
              "      <td>...</td>\n",
              "      <td>...</td>\n",
              "      <td>...</td>\n",
              "      <td>...</td>\n",
              "      <td>...</td>\n",
              "      <td>...</td>\n",
              "    </tr>\n",
              "    <tr>\n",
              "      <th>16593</th>\n",
              "      <td>Woody Woodpecker in Crazy Castle 5</td>\n",
              "      <td>GBA</td>\n",
              "      <td>2002.0</td>\n",
              "      <td>Platform</td>\n",
              "      <td>Kemco</td>\n",
              "      <td>0.01</td>\n",
              "    </tr>\n",
              "    <tr>\n",
              "      <th>16594</th>\n",
              "      <td>Men in Black II: Alien Escape</td>\n",
              "      <td>GC</td>\n",
              "      <td>2003.0</td>\n",
              "      <td>Shooter</td>\n",
              "      <td>Infogrames</td>\n",
              "      <td>0.01</td>\n",
              "    </tr>\n",
              "    <tr>\n",
              "      <th>16595</th>\n",
              "      <td>SCORE International Baja 1000: The Official Game</td>\n",
              "      <td>PS2</td>\n",
              "      <td>2008.0</td>\n",
              "      <td>Racing</td>\n",
              "      <td>Activision</td>\n",
              "      <td>0.01</td>\n",
              "    </tr>\n",
              "    <tr>\n",
              "      <th>16596</th>\n",
              "      <td>Know How 2</td>\n",
              "      <td>DS</td>\n",
              "      <td>2010.0</td>\n",
              "      <td>Puzzle</td>\n",
              "      <td>7G//AMES</td>\n",
              "      <td>0.01</td>\n",
              "    </tr>\n",
              "    <tr>\n",
              "      <th>16597</th>\n",
              "      <td>Spirits &amp; Spells</td>\n",
              "      <td>GBA</td>\n",
              "      <td>2003.0</td>\n",
              "      <td>Platform</td>\n",
              "      <td>Wanadoo</td>\n",
              "      <td>0.01</td>\n",
              "    </tr>\n",
              "  </tbody>\n",
              "</table>\n",
              "<p>16598 rows × 6 columns</p>\n",
              "</div>\n",
              "      <button class=\"colab-df-convert\" onclick=\"convertToInteractive('df-4f77feb9-7fb4-41f4-a2e4-dbdb5b5c9110')\"\n",
              "              title=\"Convert this dataframe to an interactive table.\"\n",
              "              style=\"display:none;\">\n",
              "        \n",
              "  <svg xmlns=\"http://www.w3.org/2000/svg\" height=\"24px\"viewBox=\"0 0 24 24\"\n",
              "       width=\"24px\">\n",
              "    <path d=\"M0 0h24v24H0V0z\" fill=\"none\"/>\n",
              "    <path d=\"M18.56 5.44l.94 2.06.94-2.06 2.06-.94-2.06-.94-.94-2.06-.94 2.06-2.06.94zm-11 1L8.5 8.5l.94-2.06 2.06-.94-2.06-.94L8.5 2.5l-.94 2.06-2.06.94zm10 10l.94 2.06.94-2.06 2.06-.94-2.06-.94-.94-2.06-.94 2.06-2.06.94z\"/><path d=\"M17.41 7.96l-1.37-1.37c-.4-.4-.92-.59-1.43-.59-.52 0-1.04.2-1.43.59L10.3 9.45l-7.72 7.72c-.78.78-.78 2.05 0 2.83L4 21.41c.39.39.9.59 1.41.59.51 0 1.02-.2 1.41-.59l7.78-7.78 2.81-2.81c.8-.78.8-2.07 0-2.86zM5.41 20L4 18.59l7.72-7.72 1.47 1.35L5.41 20z\"/>\n",
              "  </svg>\n",
              "      </button>\n",
              "      \n",
              "  <style>\n",
              "    .colab-df-container {\n",
              "      display:flex;\n",
              "      flex-wrap:wrap;\n",
              "      gap: 12px;\n",
              "    }\n",
              "\n",
              "    .colab-df-convert {\n",
              "      background-color: #E8F0FE;\n",
              "      border: none;\n",
              "      border-radius: 50%;\n",
              "      cursor: pointer;\n",
              "      display: none;\n",
              "      fill: #1967D2;\n",
              "      height: 32px;\n",
              "      padding: 0 0 0 0;\n",
              "      width: 32px;\n",
              "    }\n",
              "\n",
              "    .colab-df-convert:hover {\n",
              "      background-color: #E2EBFA;\n",
              "      box-shadow: 0px 1px 2px rgba(60, 64, 67, 0.3), 0px 1px 3px 1px rgba(60, 64, 67, 0.15);\n",
              "      fill: #174EA6;\n",
              "    }\n",
              "\n",
              "    [theme=dark] .colab-df-convert {\n",
              "      background-color: #3B4455;\n",
              "      fill: #D2E3FC;\n",
              "    }\n",
              "\n",
              "    [theme=dark] .colab-df-convert:hover {\n",
              "      background-color: #434B5C;\n",
              "      box-shadow: 0px 1px 3px 1px rgba(0, 0, 0, 0.15);\n",
              "      filter: drop-shadow(0px 1px 2px rgba(0, 0, 0, 0.3));\n",
              "      fill: #FFFFFF;\n",
              "    }\n",
              "  </style>\n",
              "\n",
              "      <script>\n",
              "        const buttonEl =\n",
              "          document.querySelector('#df-4f77feb9-7fb4-41f4-a2e4-dbdb5b5c9110 button.colab-df-convert');\n",
              "        buttonEl.style.display =\n",
              "          google.colab.kernel.accessAllowed ? 'block' : 'none';\n",
              "\n",
              "        async function convertToInteractive(key) {\n",
              "          const element = document.querySelector('#df-4f77feb9-7fb4-41f4-a2e4-dbdb5b5c9110');\n",
              "          const dataTable =\n",
              "            await google.colab.kernel.invokeFunction('convertToInteractive',\n",
              "                                                     [key], {});\n",
              "          if (!dataTable) return;\n",
              "\n",
              "          const docLinkHtml = 'Like what you see? Visit the ' +\n",
              "            '<a target=\"_blank\" href=https://colab.research.google.com/notebooks/data_table.ipynb>data table notebook</a>'\n",
              "            + ' to learn more about interactive tables.';\n",
              "          element.innerHTML = '';\n",
              "          dataTable['output_type'] = 'display_data';\n",
              "          await google.colab.output.renderOutput(dataTable, element);\n",
              "          const docLink = document.createElement('div');\n",
              "          docLink.innerHTML = docLinkHtml;\n",
              "          element.appendChild(docLink);\n",
              "        }\n",
              "      </script>\n",
              "    </div>\n",
              "  </div>\n",
              "  "
            ],
            "text/plain": [
              "                                                   Name  ... Global_Sales\n",
              "0                                            Wii Sports  ...        82.74\n",
              "1                                     Super Mario Bros.  ...        40.24\n",
              "2                                        Mario Kart Wii  ...        35.82\n",
              "3                                     Wii Sports Resort  ...        33.00\n",
              "4                              Pokemon Red/Pokemon Blue  ...        31.37\n",
              "...                                                 ...  ...          ...\n",
              "16593                Woody Woodpecker in Crazy Castle 5  ...         0.01\n",
              "16594                     Men in Black II: Alien Escape  ...         0.01\n",
              "16595  SCORE International Baja 1000: The Official Game  ...         0.01\n",
              "16596                                        Know How 2  ...         0.01\n",
              "16597                                  Spirits & Spells  ...         0.01\n",
              "\n",
              "[16598 rows x 6 columns]"
            ]
          },
          "execution_count": 16,
          "metadata": {},
          "output_type": "execute_result"
        }
      ],
      "source": [
        "vgs_df = vg_sales_df[select_columns].copy()\n",
        "vgs_df"
      ]
    },
    {
      "cell_type": "markdown",
      "metadata": {
        "id": "ByuwCw0ZBYH9"
      },
      "source": [
        "Now, let us view some basic info about the extracted dataframe."
      ]
    },
    {
      "cell_type": "code",
      "execution_count": null,
      "metadata": {
        "colab": {
          "base_uri": "https://localhost:8080/"
        },
        "id": "9GXcfGIVmQ10",
        "outputId": "aefddd03-9293-4440-8ac6-85729d89a90c"
      },
      "outputs": [
        {
          "data": {
            "text/plain": [
              "(16598, 6)"
            ]
          },
          "execution_count": 17,
          "metadata": {},
          "output_type": "execute_result"
        }
      ],
      "source": [
        "vgs_df.shape"
      ]
    },
    {
      "cell_type": "code",
      "execution_count": null,
      "metadata": {
        "colab": {
          "base_uri": "https://localhost:8080/"
        },
        "id": "KALV-zxpBr9d",
        "outputId": "bd9c06a0-f613-46d0-e220-2946f032b6ad"
      },
      "outputs": [
        {
          "name": "stdout",
          "output_type": "stream",
          "text": [
            "<class 'pandas.core.frame.DataFrame'>\n",
            "RangeIndex: 16598 entries, 0 to 16597\n",
            "Data columns (total 6 columns):\n",
            " #   Column        Non-Null Count  Dtype  \n",
            "---  ------        --------------  -----  \n",
            " 0   Name          16598 non-null  object \n",
            " 1   Platform      16598 non-null  object \n",
            " 2   Year          16327 non-null  float64\n",
            " 3   Genre         16598 non-null  object \n",
            " 4   Publisher     16540 non-null  object \n",
            " 5   Global_Sales  16598 non-null  float64\n",
            "dtypes: float64(2), object(4)\n",
            "memory usage: 778.2+ KB\n"
          ]
        }
      ],
      "source": [
        "vgs_df.info()"
      ]
    },
    {
      "cell_type": "code",
      "execution_count": null,
      "metadata": {
        "colab": {
          "base_uri": "https://localhost:8080/"
        },
        "id": "2zMnqSh4CIs3",
        "outputId": "3ea1e021-d0f3-47c3-b83c-6441c6b6ebaf"
      },
      "outputs": [
        {
          "data": {
            "text/plain": [
              "array(['Sports', 'Platform', 'Racing', 'Role-Playing', 'Puzzle', 'Misc',\n",
              "       'Shooter', 'Simulation', 'Action', 'Fighting', 'Adventure',\n",
              "       'Strategy'], dtype=object)"
            ]
          },
          "execution_count": 19,
          "metadata": {},
          "output_type": "execute_result"
        }
      ],
      "source": [
        "vgs_df.Genre.unique()"
      ]
    },
    {
      "cell_type": "markdown",
      "metadata": {
        "id": "TjZeAD-lCxyb"
      },
      "source": [
        "let us view some basic statistics about the numeric columns."
      ]
    },
    {
      "cell_type": "code",
      "execution_count": null,
      "metadata": {
        "colab": {
          "base_uri": "https://localhost:8080/",
          "height": 300
        },
        "id": "rB9JH8f4Ck1T",
        "outputId": "f915de2b-69bf-46f4-ab8a-e9c5a03fd209"
      },
      "outputs": [
        {
          "data": {
            "text/html": [
              "\n",
              "  <div id=\"df-e8866552-49a0-407a-8fb6-2638a76171a7\">\n",
              "    <div class=\"colab-df-container\">\n",
              "      <div>\n",
              "<style scoped>\n",
              "    .dataframe tbody tr th:only-of-type {\n",
              "        vertical-align: middle;\n",
              "    }\n",
              "\n",
              "    .dataframe tbody tr th {\n",
              "        vertical-align: top;\n",
              "    }\n",
              "\n",
              "    .dataframe thead th {\n",
              "        text-align: right;\n",
              "    }\n",
              "</style>\n",
              "<table border=\"1\" class=\"dataframe\">\n",
              "  <thead>\n",
              "    <tr style=\"text-align: right;\">\n",
              "      <th></th>\n",
              "      <th>Year</th>\n",
              "      <th>Global_Sales</th>\n",
              "    </tr>\n",
              "  </thead>\n",
              "  <tbody>\n",
              "    <tr>\n",
              "      <th>count</th>\n",
              "      <td>16327.000000</td>\n",
              "      <td>16598.000000</td>\n",
              "    </tr>\n",
              "    <tr>\n",
              "      <th>mean</th>\n",
              "      <td>2006.406443</td>\n",
              "      <td>0.537441</td>\n",
              "    </tr>\n",
              "    <tr>\n",
              "      <th>std</th>\n",
              "      <td>5.828981</td>\n",
              "      <td>1.555028</td>\n",
              "    </tr>\n",
              "    <tr>\n",
              "      <th>min</th>\n",
              "      <td>1980.000000</td>\n",
              "      <td>0.010000</td>\n",
              "    </tr>\n",
              "    <tr>\n",
              "      <th>25%</th>\n",
              "      <td>2003.000000</td>\n",
              "      <td>0.060000</td>\n",
              "    </tr>\n",
              "    <tr>\n",
              "      <th>50%</th>\n",
              "      <td>2007.000000</td>\n",
              "      <td>0.170000</td>\n",
              "    </tr>\n",
              "    <tr>\n",
              "      <th>75%</th>\n",
              "      <td>2010.000000</td>\n",
              "      <td>0.470000</td>\n",
              "    </tr>\n",
              "    <tr>\n",
              "      <th>max</th>\n",
              "      <td>2020.000000</td>\n",
              "      <td>82.740000</td>\n",
              "    </tr>\n",
              "  </tbody>\n",
              "</table>\n",
              "</div>\n",
              "      <button class=\"colab-df-convert\" onclick=\"convertToInteractive('df-e8866552-49a0-407a-8fb6-2638a76171a7')\"\n",
              "              title=\"Convert this dataframe to an interactive table.\"\n",
              "              style=\"display:none;\">\n",
              "        \n",
              "  <svg xmlns=\"http://www.w3.org/2000/svg\" height=\"24px\"viewBox=\"0 0 24 24\"\n",
              "       width=\"24px\">\n",
              "    <path d=\"M0 0h24v24H0V0z\" fill=\"none\"/>\n",
              "    <path d=\"M18.56 5.44l.94 2.06.94-2.06 2.06-.94-2.06-.94-.94-2.06-.94 2.06-2.06.94zm-11 1L8.5 8.5l.94-2.06 2.06-.94-2.06-.94L8.5 2.5l-.94 2.06-2.06.94zm10 10l.94 2.06.94-2.06 2.06-.94-2.06-.94-.94-2.06-.94 2.06-2.06.94z\"/><path d=\"M17.41 7.96l-1.37-1.37c-.4-.4-.92-.59-1.43-.59-.52 0-1.04.2-1.43.59L10.3 9.45l-7.72 7.72c-.78.78-.78 2.05 0 2.83L4 21.41c.39.39.9.59 1.41.59.51 0 1.02-.2 1.41-.59l7.78-7.78 2.81-2.81c.8-.78.8-2.07 0-2.86zM5.41 20L4 18.59l7.72-7.72 1.47 1.35L5.41 20z\"/>\n",
              "  </svg>\n",
              "      </button>\n",
              "      \n",
              "  <style>\n",
              "    .colab-df-container {\n",
              "      display:flex;\n",
              "      flex-wrap:wrap;\n",
              "      gap: 12px;\n",
              "    }\n",
              "\n",
              "    .colab-df-convert {\n",
              "      background-color: #E8F0FE;\n",
              "      border: none;\n",
              "      border-radius: 50%;\n",
              "      cursor: pointer;\n",
              "      display: none;\n",
              "      fill: #1967D2;\n",
              "      height: 32px;\n",
              "      padding: 0 0 0 0;\n",
              "      width: 32px;\n",
              "    }\n",
              "\n",
              "    .colab-df-convert:hover {\n",
              "      background-color: #E2EBFA;\n",
              "      box-shadow: 0px 1px 2px rgba(60, 64, 67, 0.3), 0px 1px 3px 1px rgba(60, 64, 67, 0.15);\n",
              "      fill: #174EA6;\n",
              "    }\n",
              "\n",
              "    [theme=dark] .colab-df-convert {\n",
              "      background-color: #3B4455;\n",
              "      fill: #D2E3FC;\n",
              "    }\n",
              "\n",
              "    [theme=dark] .colab-df-convert:hover {\n",
              "      background-color: #434B5C;\n",
              "      box-shadow: 0px 1px 3px 1px rgba(0, 0, 0, 0.15);\n",
              "      filter: drop-shadow(0px 1px 2px rgba(0, 0, 0, 0.3));\n",
              "      fill: #FFFFFF;\n",
              "    }\n",
              "  </style>\n",
              "\n",
              "      <script>\n",
              "        const buttonEl =\n",
              "          document.querySelector('#df-e8866552-49a0-407a-8fb6-2638a76171a7 button.colab-df-convert');\n",
              "        buttonEl.style.display =\n",
              "          google.colab.kernel.accessAllowed ? 'block' : 'none';\n",
              "\n",
              "        async function convertToInteractive(key) {\n",
              "          const element = document.querySelector('#df-e8866552-49a0-407a-8fb6-2638a76171a7');\n",
              "          const dataTable =\n",
              "            await google.colab.kernel.invokeFunction('convertToInteractive',\n",
              "                                                     [key], {});\n",
              "          if (!dataTable) return;\n",
              "\n",
              "          const docLinkHtml = 'Like what you see? Visit the ' +\n",
              "            '<a target=\"_blank\" href=https://colab.research.google.com/notebooks/data_table.ipynb>data table notebook</a>'\n",
              "            + ' to learn more about interactive tables.';\n",
              "          element.innerHTML = '';\n",
              "          dataTable['output_type'] = 'display_data';\n",
              "          await google.colab.output.renderOutput(dataTable, element);\n",
              "          const docLink = document.createElement('div');\n",
              "          docLink.innerHTML = docLinkHtml;\n",
              "          element.appendChild(docLink);\n",
              "        }\n",
              "      </script>\n",
              "    </div>\n",
              "  </div>\n",
              "  "
            ],
            "text/plain": [
              "               Year  Global_Sales\n",
              "count  16327.000000  16598.000000\n",
              "mean    2006.406443      0.537441\n",
              "std        5.828981      1.555028\n",
              "min     1980.000000      0.010000\n",
              "25%     2003.000000      0.060000\n",
              "50%     2007.000000      0.170000\n",
              "75%     2010.000000      0.470000\n",
              "max     2020.000000     82.740000"
            ]
          },
          "execution_count": 20,
          "metadata": {},
          "output_type": "execute_result"
        }
      ],
      "source": [
        "vgs_df.describe()"
      ]
    },
    {
      "cell_type": "markdown",
      "metadata": {
        "id": "S7X-w0v-Fl87"
      },
      "source": [
        "Now let us add a column in vgs_df \"Name_with_genre\" which shows the Name of vedio game with Genre."
      ]
    },
    {
      "cell_type": "code",
      "execution_count": null,
      "metadata": {
        "colab": {
          "base_uri": "https://localhost:8080/",
          "height": 423
        },
        "id": "UxXaKhGkF7ZA",
        "outputId": "d94aa894-df05-4d20-d7a8-79820cd90e63"
      },
      "outputs": [
        {
          "data": {
            "text/html": [
              "\n",
              "  <div id=\"df-947a29a9-6875-4400-9b53-ac65dbe538c6\">\n",
              "    <div class=\"colab-df-container\">\n",
              "      <div>\n",
              "<style scoped>\n",
              "    .dataframe tbody tr th:only-of-type {\n",
              "        vertical-align: middle;\n",
              "    }\n",
              "\n",
              "    .dataframe tbody tr th {\n",
              "        vertical-align: top;\n",
              "    }\n",
              "\n",
              "    .dataframe thead th {\n",
              "        text-align: right;\n",
              "    }\n",
              "</style>\n",
              "<table border=\"1\" class=\"dataframe\">\n",
              "  <thead>\n",
              "    <tr style=\"text-align: right;\">\n",
              "      <th></th>\n",
              "      <th>Name</th>\n",
              "      <th>Platform</th>\n",
              "      <th>Year</th>\n",
              "      <th>Genre</th>\n",
              "      <th>Publisher</th>\n",
              "      <th>Global_Sales</th>\n",
              "      <th>Name_with_genre</th>\n",
              "    </tr>\n",
              "  </thead>\n",
              "  <tbody>\n",
              "    <tr>\n",
              "      <th>0</th>\n",
              "      <td>Wii Sports</td>\n",
              "      <td>Wii</td>\n",
              "      <td>2006.0</td>\n",
              "      <td>Sports</td>\n",
              "      <td>Nintendo</td>\n",
              "      <td>82.74</td>\n",
              "      <td>Wii SportsSports</td>\n",
              "    </tr>\n",
              "    <tr>\n",
              "      <th>1</th>\n",
              "      <td>Super Mario Bros.</td>\n",
              "      <td>NES</td>\n",
              "      <td>1985.0</td>\n",
              "      <td>Platform</td>\n",
              "      <td>Nintendo</td>\n",
              "      <td>40.24</td>\n",
              "      <td>Super Mario Bros.Platform</td>\n",
              "    </tr>\n",
              "    <tr>\n",
              "      <th>2</th>\n",
              "      <td>Mario Kart Wii</td>\n",
              "      <td>Wii</td>\n",
              "      <td>2008.0</td>\n",
              "      <td>Racing</td>\n",
              "      <td>Nintendo</td>\n",
              "      <td>35.82</td>\n",
              "      <td>Mario Kart WiiRacing</td>\n",
              "    </tr>\n",
              "    <tr>\n",
              "      <th>3</th>\n",
              "      <td>Wii Sports Resort</td>\n",
              "      <td>Wii</td>\n",
              "      <td>2009.0</td>\n",
              "      <td>Sports</td>\n",
              "      <td>Nintendo</td>\n",
              "      <td>33.00</td>\n",
              "      <td>Wii Sports ResortSports</td>\n",
              "    </tr>\n",
              "    <tr>\n",
              "      <th>4</th>\n",
              "      <td>Pokemon Red/Pokemon Blue</td>\n",
              "      <td>GB</td>\n",
              "      <td>1996.0</td>\n",
              "      <td>Role-Playing</td>\n",
              "      <td>Nintendo</td>\n",
              "      <td>31.37</td>\n",
              "      <td>Pokemon Red/Pokemon BlueRole-Playing</td>\n",
              "    </tr>\n",
              "    <tr>\n",
              "      <th>...</th>\n",
              "      <td>...</td>\n",
              "      <td>...</td>\n",
              "      <td>...</td>\n",
              "      <td>...</td>\n",
              "      <td>...</td>\n",
              "      <td>...</td>\n",
              "      <td>...</td>\n",
              "    </tr>\n",
              "    <tr>\n",
              "      <th>16593</th>\n",
              "      <td>Woody Woodpecker in Crazy Castle 5</td>\n",
              "      <td>GBA</td>\n",
              "      <td>2002.0</td>\n",
              "      <td>Platform</td>\n",
              "      <td>Kemco</td>\n",
              "      <td>0.01</td>\n",
              "      <td>Woody Woodpecker in Crazy Castle 5Platform</td>\n",
              "    </tr>\n",
              "    <tr>\n",
              "      <th>16594</th>\n",
              "      <td>Men in Black II: Alien Escape</td>\n",
              "      <td>GC</td>\n",
              "      <td>2003.0</td>\n",
              "      <td>Shooter</td>\n",
              "      <td>Infogrames</td>\n",
              "      <td>0.01</td>\n",
              "      <td>Men in Black II: Alien EscapeShooter</td>\n",
              "    </tr>\n",
              "    <tr>\n",
              "      <th>16595</th>\n",
              "      <td>SCORE International Baja 1000: The Official Game</td>\n",
              "      <td>PS2</td>\n",
              "      <td>2008.0</td>\n",
              "      <td>Racing</td>\n",
              "      <td>Activision</td>\n",
              "      <td>0.01</td>\n",
              "      <td>SCORE International Baja 1000: The Official Ga...</td>\n",
              "    </tr>\n",
              "    <tr>\n",
              "      <th>16596</th>\n",
              "      <td>Know How 2</td>\n",
              "      <td>DS</td>\n",
              "      <td>2010.0</td>\n",
              "      <td>Puzzle</td>\n",
              "      <td>7G//AMES</td>\n",
              "      <td>0.01</td>\n",
              "      <td>Know How 2Puzzle</td>\n",
              "    </tr>\n",
              "    <tr>\n",
              "      <th>16597</th>\n",
              "      <td>Spirits &amp; Spells</td>\n",
              "      <td>GBA</td>\n",
              "      <td>2003.0</td>\n",
              "      <td>Platform</td>\n",
              "      <td>Wanadoo</td>\n",
              "      <td>0.01</td>\n",
              "      <td>Spirits &amp; SpellsPlatform</td>\n",
              "    </tr>\n",
              "  </tbody>\n",
              "</table>\n",
              "<p>16598 rows × 7 columns</p>\n",
              "</div>\n",
              "      <button class=\"colab-df-convert\" onclick=\"convertToInteractive('df-947a29a9-6875-4400-9b53-ac65dbe538c6')\"\n",
              "              title=\"Convert this dataframe to an interactive table.\"\n",
              "              style=\"display:none;\">\n",
              "        \n",
              "  <svg xmlns=\"http://www.w3.org/2000/svg\" height=\"24px\"viewBox=\"0 0 24 24\"\n",
              "       width=\"24px\">\n",
              "    <path d=\"M0 0h24v24H0V0z\" fill=\"none\"/>\n",
              "    <path d=\"M18.56 5.44l.94 2.06.94-2.06 2.06-.94-2.06-.94-.94-2.06-.94 2.06-2.06.94zm-11 1L8.5 8.5l.94-2.06 2.06-.94-2.06-.94L8.5 2.5l-.94 2.06-2.06.94zm10 10l.94 2.06.94-2.06 2.06-.94-2.06-.94-.94-2.06-.94 2.06-2.06.94z\"/><path d=\"M17.41 7.96l-1.37-1.37c-.4-.4-.92-.59-1.43-.59-.52 0-1.04.2-1.43.59L10.3 9.45l-7.72 7.72c-.78.78-.78 2.05 0 2.83L4 21.41c.39.39.9.59 1.41.59.51 0 1.02-.2 1.41-.59l7.78-7.78 2.81-2.81c.8-.78.8-2.07 0-2.86zM5.41 20L4 18.59l7.72-7.72 1.47 1.35L5.41 20z\"/>\n",
              "  </svg>\n",
              "      </button>\n",
              "      \n",
              "  <style>\n",
              "    .colab-df-container {\n",
              "      display:flex;\n",
              "      flex-wrap:wrap;\n",
              "      gap: 12px;\n",
              "    }\n",
              "\n",
              "    .colab-df-convert {\n",
              "      background-color: #E8F0FE;\n",
              "      border: none;\n",
              "      border-radius: 50%;\n",
              "      cursor: pointer;\n",
              "      display: none;\n",
              "      fill: #1967D2;\n",
              "      height: 32px;\n",
              "      padding: 0 0 0 0;\n",
              "      width: 32px;\n",
              "    }\n",
              "\n",
              "    .colab-df-convert:hover {\n",
              "      background-color: #E2EBFA;\n",
              "      box-shadow: 0px 1px 2px rgba(60, 64, 67, 0.3), 0px 1px 3px 1px rgba(60, 64, 67, 0.15);\n",
              "      fill: #174EA6;\n",
              "    }\n",
              "\n",
              "    [theme=dark] .colab-df-convert {\n",
              "      background-color: #3B4455;\n",
              "      fill: #D2E3FC;\n",
              "    }\n",
              "\n",
              "    [theme=dark] .colab-df-convert:hover {\n",
              "      background-color: #434B5C;\n",
              "      box-shadow: 0px 1px 3px 1px rgba(0, 0, 0, 0.15);\n",
              "      filter: drop-shadow(0px 1px 2px rgba(0, 0, 0, 0.3));\n",
              "      fill: #FFFFFF;\n",
              "    }\n",
              "  </style>\n",
              "\n",
              "      <script>\n",
              "        const buttonEl =\n",
              "          document.querySelector('#df-947a29a9-6875-4400-9b53-ac65dbe538c6 button.colab-df-convert');\n",
              "        buttonEl.style.display =\n",
              "          google.colab.kernel.accessAllowed ? 'block' : 'none';\n",
              "\n",
              "        async function convertToInteractive(key) {\n",
              "          const element = document.querySelector('#df-947a29a9-6875-4400-9b53-ac65dbe538c6');\n",
              "          const dataTable =\n",
              "            await google.colab.kernel.invokeFunction('convertToInteractive',\n",
              "                                                     [key], {});\n",
              "          if (!dataTable) return;\n",
              "\n",
              "          const docLinkHtml = 'Like what you see? Visit the ' +\n",
              "            '<a target=\"_blank\" href=https://colab.research.google.com/notebooks/data_table.ipynb>data table notebook</a>'\n",
              "            + ' to learn more about interactive tables.';\n",
              "          element.innerHTML = '';\n",
              "          dataTable['output_type'] = 'display_data';\n",
              "          await google.colab.output.renderOutput(dataTable, element);\n",
              "          const docLink = document.createElement('div');\n",
              "          docLink.innerHTML = docLinkHtml;\n",
              "          element.appendChild(docLink);\n",
              "        }\n",
              "      </script>\n",
              "    </div>\n",
              "  </div>\n",
              "  "
            ],
            "text/plain": [
              "                                                   Name  ...                                    Name_with_genre\n",
              "0                                            Wii Sports  ...                                   Wii SportsSports\n",
              "1                                     Super Mario Bros.  ...                          Super Mario Bros.Platform\n",
              "2                                        Mario Kart Wii  ...                               Mario Kart WiiRacing\n",
              "3                                     Wii Sports Resort  ...                            Wii Sports ResortSports\n",
              "4                              Pokemon Red/Pokemon Blue  ...               Pokemon Red/Pokemon BlueRole-Playing\n",
              "...                                                 ...  ...                                                ...\n",
              "16593                Woody Woodpecker in Crazy Castle 5  ...         Woody Woodpecker in Crazy Castle 5Platform\n",
              "16594                     Men in Black II: Alien Escape  ...               Men in Black II: Alien EscapeShooter\n",
              "16595  SCORE International Baja 1000: The Official Game  ...  SCORE International Baja 1000: The Official Ga...\n",
              "16596                                        Know How 2  ...                                   Know How 2Puzzle\n",
              "16597                                  Spirits & Spells  ...                           Spirits & SpellsPlatform\n",
              "\n",
              "[16598 rows x 7 columns]"
            ]
          },
          "execution_count": 21,
          "metadata": {},
          "output_type": "execute_result"
        }
      ],
      "source": [
        "vgs_df['Name_with_genre'] = vgs_df.Name  +  vgs_df.Genre\n",
        "vgs_df"
      ]
    },
    {
      "cell_type": "markdown",
      "metadata": {
        "id": "w0fqzz6iNALg"
      },
      "source": [
        "Now let us make a dataframe that counts the Number of Vedio Games in each Genre.\n"
      ]
    },
    {
      "cell_type": "code",
      "execution_count": null,
      "metadata": {
        "colab": {
          "base_uri": "https://localhost:8080/"
        },
        "id": "_EX6kgqRNVkC",
        "outputId": "9e180963-61c8-457e-f8b0-2bd8b8e1d737"
      },
      "outputs": [
        {
          "data": {
            "text/plain": [
              "Genre\n",
              "Action          3316\n",
              "Adventure       1286\n",
              "Fighting         848\n",
              "Misc            1739\n",
              "Platform         886\n",
              "Puzzle           582\n",
              "Racing          1249\n",
              "Role-Playing    1488\n",
              "Shooter         1310\n",
              "Simulation       867\n",
              "Sports          2346\n",
              "Strategy         681\n",
              "Name: Name, dtype: int64"
            ]
          },
          "execution_count": 22,
          "metadata": {},
          "output_type": "execute_result"
        }
      ],
      "source": [
        "genre_counts_df = vgs_df.groupby('Genre')['Name'].count()\n",
        "genre_counts_df\n"
      ]
    },
    {
      "cell_type": "markdown",
      "metadata": {
        "id": "WO5HXJiHW20O"
      },
      "source": [
        "Now let us make a dataframe that counts the Number of games each Publisher launches"
      ]
    },
    {
      "cell_type": "code",
      "execution_count": null,
      "metadata": {
        "colab": {
          "base_uri": "https://localhost:8080/"
        },
        "id": "E_4rqkneXBe8",
        "outputId": "c05dae98-f085-4dc5-8767-0a3adfabfe25"
      },
      "outputs": [
        {
          "data": {
            "text/plain": [
              "Platform\n",
              "2600     133\n",
              "3DO        3\n",
              "3DS      509\n",
              "DC        52\n",
              "DS      2163\n",
              "GB        98\n",
              "GBA      822\n",
              "GC       556\n",
              "GEN       27\n",
              "GG         1\n",
              "N64      319\n",
              "NES       98\n",
              "NG        12\n",
              "PC       960\n",
              "PCFX       1\n",
              "PS      1196\n",
              "PS2     2161\n",
              "PS3     1329\n",
              "PS4      336\n",
              "PSP     1213\n",
              "PSV      413\n",
              "SAT      173\n",
              "SCD        6\n",
              "SNES     239\n",
              "TG16       2\n",
              "WS         6\n",
              "Wii     1325\n",
              "WiiU     143\n",
              "X360    1265\n",
              "XB       824\n",
              "XOne     213\n",
              "Name: Name, dtype: int64"
            ]
          },
          "execution_count": 23,
          "metadata": {},
          "output_type": "execute_result"
        }
      ],
      "source": [
        "vgs_counts_df = vgs_df.groupby('Platform')['Name'].count()\n",
        "vgs_counts_df"
      ]
    },
    {
      "cell_type": "code",
      "execution_count": null,
      "metadata": {
        "id": "Id3BxFbuYZpy"
      },
      "outputs": [],
      "source": [
        "import jovian"
      ]
    },
    {
      "cell_type": "code",
      "execution_count": null,
      "metadata": {
        "colab": {
          "base_uri": "https://localhost:8080/",
          "height": 88
        },
        "id": "i6xhdH-XYZpz",
        "outputId": "8e535b8e-2128-47b8-cfc3-0870282e33a5"
      },
      "outputs": [
        {
          "name": "stdout",
          "output_type": "stream",
          "text": [
            "[jovian] Detected Colab notebook...\u001b[0m\n",
            "[jovian] Uploading colab notebook to Jovian...\u001b[0m\n",
            "Committed successfully! https://jovian.ai/pandeyharshit268/vediogamesales\n"
          ]
        },
        {
          "data": {
            "application/vnd.google.colaboratory.intrinsic+json": {
              "type": "string"
            },
            "text/plain": [
              "'https://jovian.ai/pandeyharshit268/vediogamesales'"
            ]
          },
          "execution_count": 25,
          "metadata": {},
          "output_type": "execute_result"
        }
      ],
      "source": [
        "jovian.commit()"
      ]
    },
    {
      "cell_type": "markdown",
      "metadata": {
        "id": "XKhp7ydvbqAB"
      },
      "source": [
        "Now, we have successfully saved our project to the jovian account using the command jovian.commit(project_name)\n"
      ]
    },
    {
      "cell_type": "markdown",
      "metadata": {
        "id": "JhQkU2IlYZpz"
      },
      "source": [
        "Here we'll visualize our dataset my ploting graphs(pie charts, graph b/w two columns) for the datas, by using library such as seaborn , matplotlib.pyplot."
      ]
    },
    {
      "cell_type": "markdown",
      "metadata": {
        "id": "IgBOEUXXYZp1"
      },
      "source": [
        "Let's begin by importing`matplotlib.pyplot` and `seaborn` to visualize the sales of video games by different aspects."
      ]
    },
    {
      "cell_type": "code",
      "execution_count": null,
      "metadata": {
        "id": "SIaVecxIYZp1"
      },
      "outputs": [],
      "source": [
        "import seaborn as sns\n",
        "import matplotlib\n",
        "import matplotlib.pyplot as plt\n",
        "%matplotlib inline\n",
        "\n",
        "sns.set_style('darkgrid')\n",
        "matplotlib.rcParams['font.size'] = 14\n",
        "matplotlib.rcParams['figure.figsize'] = (9, 5)\n",
        "matplotlib.rcParams['figure.facecolor'] = '#00000000'"
      ]
    },
    {
      "cell_type": "markdown",
      "metadata": {
        "id": "KQofbwT_Swq7"
      },
      "source": [
        "Now, here we will identify the Vediogames which has highest number of sales. by (value_counts) "
      ]
    },
    {
      "cell_type": "code",
      "execution_count": null,
      "metadata": {
        "colab": {
          "base_uri": "https://localhost:8080/"
        },
        "id": "8_yvaGwFSKOR",
        "outputId": "22ff859c-5615-433a-d100-c3cfa7e50a5a"
      },
      "outputs": [
        {
          "data": {
            "text/plain": [
              "Need for Speed: Most Wanted    12\n",
              "Ratatouille                     9\n",
              "FIFA 14                         9\n",
              "LEGO Marvel Super Heroes        9\n",
              "Madden NFL 07                   9\n",
              "Cars                            8\n",
              "FIFA Soccer 13                  8\n",
              "LEGO The Hobbit                 8\n",
              "Monopoly                        8\n",
              "LEGO Jurassic World             8\n",
              "Name: Name, dtype: int64"
            ]
          },
          "execution_count": 27,
          "metadata": {},
          "output_type": "execute_result"
        }
      ],
      "source": [
        "top_vediogames = vgs_df.Name.value_counts().head(10)\n",
        "top_vediogames"
      ]
    },
    {
      "cell_type": "markdown",
      "metadata": {
        "id": "DYl2MmFOee3D"
      },
      "source": [
        "Now, Let us show the Top 10 Vedio games with its sales in the form of graph."
      ]
    },
    {
      "cell_type": "code",
      "execution_count": null,
      "metadata": {
        "colab": {
          "base_uri": "https://localhost:8080/",
          "height": 706
        },
        "id": "bc4phBsAYZp2",
        "outputId": "994492d1-6587-457e-d67e-de1317460489"
      },
      "outputs": [
        {
          "name": "stderr",
          "output_type": "stream",
          "text": [
            "/usr/local/lib/python3.7/dist-packages/seaborn/_decorators.py:43: FutureWarning: Pass the following variables as keyword args: x, y. From version 0.12, the only valid positional argument will be `data`, and passing other arguments without an explicit keyword will result in an error or misinterpretation.\n",
            "  FutureWarning\n"
          ]
        },
        {
          "data": {
            "text/plain": [
              "<matplotlib.axes._subplots.AxesSubplot at 0x7fb97fe56f10>"
            ]
          },
          "execution_count": 28,
          "metadata": {},
          "output_type": "execute_result"
        },
        {
          "data": {
            "image/png": "[encoded data removed]",
            "text/plain": [
              "<Figure size 1080x720 with 1 Axes>"
            ]
          },
          "metadata": {},
          "output_type": "display_data"
        }
      ],
      "source": [
        "plt.figure(figsize=(15,10))\n",
        "plt.xticks(rotation = 0)\n",
        "plt.title(\"Top Vediogames Sales\")\n",
        "sns.barplot(top_vediogames, top_vediogames.index)"
      ]
    },
    {
      "cell_type": "markdown",
      "metadata": {
        "id": "ITXA0Iddc3vB"
      },
      "source": [
        "We have successfully ploted the graph of the top videogames with it's sales.\n",
        "So, we have came to know that the Video Game named \"Need for speed most wanted\" has the highest number of sales, which is shown in the above plotted graph."
      ]
    },
    {
      "cell_type": "markdown",
      "metadata": {
        "id": "LGRF7CzZYZp4"
      },
      "source": [
        "Here we'll plot the histographic graph b/w Genre With its sales"
      ]
    },
    {
      "cell_type": "code",
      "execution_count": null,
      "metadata": {
        "colab": {
          "base_uri": "https://localhost:8080/",
          "height": 905
        },
        "id": "HShuEwctYZp4",
        "outputId": "9235d65e-1f58-4332-b961-1f5dbb4decfd"
      },
      "outputs": [
        {
          "data": {
            "image/png": "[encoded data removed]",
            "text/plain": [
              "<Figure size 1440x1080 with 1 Axes>"
            ]
          },
          "metadata": {},
          "output_type": "display_data"
        }
      ],
      "source": [
        "plt.figure(figsize=(20,15))\n",
        "plt.title(\"Number of sales with Genre\")\n",
        "plt.xlabel('Genre')\n",
        "plt.ylabel('Number of sales')\n",
        "plt.hist(vgs_df.Genre , color='purple');"
      ]
    },
    {
      "cell_type": "markdown",
      "metadata": {
        "id": "g-sRSnFddl6n"
      },
      "source": [
        "Now, Here we have came with an histographic graph which is showing us the number of sales on Y-axis as on X-axis with it's genre of the video games which our dataset is containing, and from the histographic plotting we can visualize it clearly."
      ]
    },
    {
      "cell_type": "markdown",
      "metadata": {
        "id": "_Z7cxFmyhuKC"
      },
      "source": [
        "Here we'll plot the Genre with the number of Platform a genre contains."
      ]
    },
    {
      "cell_type": "code",
      "execution_count": null,
      "metadata": {
        "colab": {
          "base_uri": "https://localhost:8080/"
        },
        "id": "r-h_IS9WowJK",
        "outputId": "b67ade1e-6378-453b-ce0d-8dd999405d3a"
      },
      "outputs": [
        {
          "data": {
            "text/plain": [
              "DS      2163\n",
              "PS2     2161\n",
              "PS3     1329\n",
              "Wii     1325\n",
              "X360    1265\n",
              "PSP     1213\n",
              "PS      1196\n",
              "PC       960\n",
              "XB       824\n",
              "GBA      822\n",
              "Name: Platform, dtype: int64"
            ]
          },
          "execution_count": 30,
          "metadata": {},
          "output_type": "execute_result"
        }
      ],
      "source": [
        "top_Platform = vgs_df.Platform.value_counts().head(10)\n",
        "top_Platform"
      ]
    },
    {
      "cell_type": "markdown",
      "metadata": {
        "id": "2zVH6907rlPI"
      },
      "source": [
        "Here we Have extracted the Top 10 Platforms of vedio games with the number of Vedio game a platform has."
      ]
    },
    {
      "cell_type": "code",
      "execution_count": null,
      "metadata": {
        "colab": {
          "base_uri": "https://localhost:8080/"
        },
        "id": "h9DkaiXhf_Wq",
        "outputId": "e851f52b-714e-4847-87a9-468eef46d7bd"
      },
      "outputs": [
        {
          "data": {
            "text/plain": [
              "Action          3316\n",
              "Sports          2346\n",
              "Misc            1739\n",
              "Role-Playing    1488\n",
              "Shooter         1310\n",
              "Adventure       1286\n",
              "Racing          1249\n",
              "Platform         886\n",
              "Simulation       867\n",
              "Fighting         848\n",
              "Name: Genre, dtype: int64"
            ]
          },
          "execution_count": 34,
          "metadata": {},
          "output_type": "execute_result"
        }
      ],
      "source": [
        "top_Genre = vgs_df.Genre.value_counts().head(10)\n",
        "top_Genre"
      ]
    },
    {
      "cell_type": "code",
      "execution_count": null,
      "metadata": {
        "colab": {
          "base_uri": "https://localhost:8080/",
          "height": 651
        },
        "id": "7DpgL2t6YZp5",
        "outputId": "8d4b3e87-84e4-4d58-f223-db4c94cf1bf9"
      },
      "outputs": [
        {
          "data": {
            "text/plain": [
              "[<matplotlib.lines.Line2D at 0x7fb97f55ddd0>]"
            ]
          },
          "execution_count": 36,
          "metadata": {},
          "output_type": "execute_result"
        },
        {
          "data": {
            "image/png": "[encoded data removed]",
            "text/plain": [
              "<Figure size 1080x720 with 1 Axes>"
            ]
          },
          "metadata": {},
          "output_type": "display_data"
        }
      ],
      "source": [
        "plt.figure(figsize=(15,10))\n",
        "plt.title(\"Top Genre with Platform\")\n",
        "plt.xlabel('Platform')\n",
        "plt.ylabel('Name of Genre')\n",
        "plt.plot(top_Platform, top_Genre.index , marker='o', linestyle='--', color='r', label='Square')"
      ]
    },
    {
      "cell_type": "markdown",
      "metadata": {
        "id": "khHCQOTie7cy"
      },
      "source": [
        "Here we have come with another visualised graph of Video games.\n",
        "X-axis is presenting the the number of platforms.\n",
        "Y-axis is presenting the Genre name.\n",
        "So, from the above the graph we are clearly getting that a particular genre of video game has that much number of platform on which the video games are being played."
      ]
    },
    {
      "cell_type": "markdown",
      "metadata": {
        "id": "9tnuC5dzYZp6"
      },
      "source": [
        "Here we'll make a piechart of 10 Genres with the Percentage of Vedios games in specific Genre given in the dataset."
      ]
    },
    {
      "cell_type": "code",
      "execution_count": null,
      "metadata": {
        "colab": {
          "base_uri": "https://localhost:8080/",
          "height": 1000
        },
        "id": "6l8mJOQeYZp7",
        "outputId": "14012e50-b20c-404b-faf8-257919f6b719"
      },
      "outputs": [
        {
          "data": {
            "text/plain": [
              "([<matplotlib.patches.Wedge at 0x7fb97f88a950>,\n",
              "  <matplotlib.patches.Wedge at 0x7fb97f88aa50>,\n",
              "  <matplotlib.patches.Wedge at 0x7fb97f842750>,\n",
              "  <matplotlib.patches.Wedge at 0x7fb97f7d47d0>,\n",
              "  <matplotlib.patches.Wedge at 0x7fb97f81a7d0>,\n",
              "  <matplotlib.patches.Wedge at 0x7fb97f81a710>,\n",
              "  <matplotlib.patches.Wedge at 0x7fb97f822d10>,\n",
              "  <matplotlib.patches.Wedge at 0x7fb97f822990>,\n",
              "  <matplotlib.patches.Wedge at 0x7fb97f7d4990>,\n",
              "  <matplotlib.patches.Wedge at 0x7fb97f81ac90>],\n",
              " [Text(0.8557934118298504, 0.6910988614291189, 'Action'),\n",
              "  Text(-0.2917870248299123, 1.0605943296760116, 'Sports'),\n",
              "  Text(-0.9829809148457139, 0.49370894365920037, 'Misc'),\n",
              "  Text(-1.0790146647129275, -0.21383955044483424, 'Role-Playing'),\n",
              "  Text(-0.7905777011355877, -0.7648443622510201, 'Shooter'),\n",
              "  Text(-0.29352485398570277, -1.0601146919520887, 'Adventure'),\n",
              "  Text(0.27131008554055996, -1.0660163401580551, 'Racing'),\n",
              "  Text(0.6973044421292169, -0.8507446826086319, 'Platform'),\n",
              "  Text(0.9518194140545185, -0.5513980440923899, 'Simulation'),\n",
              "  Text(1.0834425282998181, -0.19013754987192327, 'Fighting')],\n",
              " [Text(0.4667964064526456, 0.3769630153249739, '21.6 %'),\n",
              "  Text(-0.15915655899813397, 0.5785059980050972, '15.3 %'),\n",
              "  Text(-0.5361714080976621, 0.2692957874504729, '11.3 %'),\n",
              "  Text(-0.5885534534797786, -0.1166397547880914, '9.7 %'),\n",
              "  Text(-0.4312242006194114, -0.41718783395510184, '8.5 %'),\n",
              "  Text(-0.16010446581038332, -0.578244377428412, '8.4 %'),\n",
              "  Text(0.14798731938575996, -0.5814634582680299, '8.1 %'),\n",
              "  Text(0.38034787752502736, -0.4640425541501628, '5.8 %'),\n",
              "  Text(0.5191742258479192, -0.3007625695049399, '5.7 %'),\n",
              "  Text(0.5909686517999007, -0.10371139083923087, '5.5 %')])"
            ]
          },
          "execution_count": 37,
          "metadata": {},
          "output_type": "execute_result"
        },
        {
          "data": {
            "image/png": "[encoded data removed]",
            "text/plain": [
              "<Figure size 1080x720 with 1 Axes>"
            ]
          },
          "metadata": {},
          "output_type": "display_data"
        }
      ],
      "source": [
        "plt.figure(figsize=(15,10))\n",
        "plt.title (\"Genre With the Percentage of Vedio Games\")\n",
        "plt.pie( top_Genre, labels = top_Genre.index, autopct = '%1.1f %%')\n"
      ]
    },
    {
      "cell_type": "markdown",
      "metadata": {
        "id": "wXriZAH0hNpt"
      },
      "source": [
        "Now, here we have came with another interesting visualization as a pie chart, which will help us in better analysing of the datasets. \n",
        "hence the above pie chart is making us clear about the how much percentage of video games a specified Genre has."
      ]
    },
    {
      "cell_type": "markdown",
      "metadata": {
        "id": "yZcV8b_pYZp8"
      },
      "source": [
        "Here we'll plot the Top 10 publisher and genre of vedio games."
      ]
    },
    {
      "cell_type": "code",
      "execution_count": null,
      "metadata": {
        "colab": {
          "base_uri": "https://localhost:8080/"
        },
        "id": "o14tSJlbYZp9",
        "outputId": "794d5f53-088f-4671-96bc-9ad4e4d9a2cd"
      },
      "outputs": [
        {
          "data": {
            "text/plain": [
              "Electronic Arts                 1351\n",
              "Activision                       975\n",
              "Namco Bandai Games               932\n",
              "Ubisoft                          921\n",
              "Konami Digital Entertainment     832\n",
              "THQ                              715\n",
              "Nintendo                         703\n",
              "Sony Computer Entertainment      683\n",
              "Sega                             639\n",
              "Take-Two Interactive             413\n",
              "Name: Publisher, dtype: int64"
            ]
          },
          "execution_count": 38,
          "metadata": {},
          "output_type": "execute_result"
        }
      ],
      "source": [
        "top_Publisher = vgs_df.Publisher.value_counts().head(10)\n",
        "top_Publisher"
      ]
    },
    {
      "cell_type": "code",
      "execution_count": null,
      "metadata": {
        "colab": {
          "base_uri": "https://localhost:8080/",
          "height": 902
        },
        "id": "CS8b9qGVtveV",
        "outputId": "5709faf1-f7df-436b-8579-63b435ee6089"
      },
      "outputs": [
        {
          "data": {
            "text/plain": [
              "[<matplotlib.lines.Line2D at 0x7fb97f2ca050>]"
            ]
          },
          "execution_count": 42,
          "metadata": {},
          "output_type": "execute_result"
        },
        {
          "data": {
            "image/png": "[encoded data removed]",
            "text/plain": [
              "<Figure size 1440x1080 with 1 Axes>"
            ]
          },
          "metadata": {},
          "output_type": "display_data"
        }
      ],
      "source": [
        "plt.figure(figsize=(20,15))\n",
        "plt.xlabel('Publisher')\n",
        "plt.ylabel('Genre')\n",
        "plt.plot(top_Publisher, top_Genre.index , marker='x',  linestyle='--', color='r', label='Square')\n"
      ]
    },
    {
      "cell_type": "markdown",
      "metadata": {
        "id": "zm6-KXOii0-w"
      },
      "source": [
        "The above graph is making us clear about the Number of Publisher a genre has, as we have a large number of publishers so we have picked only top 10 publishers from the dataset. \n",
        "X-axis is showing the number of publishers while Y-axis is showing the Genre Name.\n",
        "It is making us clear that the Genre Fighting has less number of publishers while the action genre has the highest number of publishers among the top 10 publishers of video games.\n"
      ]
    },
    {
      "cell_type": "markdown",
      "metadata": {
        "id": "H4S91aj-YZp-"
      },
      "source": [
        "Let us save and upload our work to Jovian before continuing"
      ]
    },
    {
      "cell_type": "code",
      "execution_count": null,
      "metadata": {
        "id": "AtTr0IRJYZp-"
      },
      "outputs": [],
      "source": [
        "import jovian"
      ]
    },
    {
      "cell_type": "code",
      "execution_count": null,
      "metadata": {
        "colab": {
          "base_uri": "https://localhost:8080/",
          "height": 88
        },
        "id": "na9JcuXmYZp_",
        "outputId": "c4f8ee1b-a4f1-48a9-e8f3-ab3522889040"
      },
      "outputs": [
        {
          "name": "stdout",
          "output_type": "stream",
          "text": [
            "[jovian] Detected Colab notebook...\u001b[0m\n",
            "[jovian] Uploading colab notebook to Jovian...\u001b[0m\n",
            "Committed successfully! https://jovian.ai/pandeyharshit268/vediogamesales\n"
          ]
        },
        {
          "data": {
            "application/vnd.google.colaboratory.intrinsic+json": {
              "type": "string"
            },
            "text/plain": [
              "'https://jovian.ai/pandeyharshit268/vediogamesales'"
            ]
          },
          "execution_count": 44,
          "metadata": {},
          "output_type": "execute_result"
        }
      ],
      "source": [
        "jovian.commit()"
      ]
    },
    {
      "cell_type": "markdown",
      "metadata": {
        "id": "P6pcnC9Mk9zw"
      },
      "source": [
        "Now, we have successfully saved our project to the jovian account using the command jovian.commit(project_name)\n"
      ]
    },
    {
      "cell_type": "markdown",
      "metadata": {
        "id": "5jw7Uc3IYZp_"
      },
      "source": [
        "Here We will asks counter Question and answer them by implementing a code which extract the answer of the Question from the dataset. \n",
        "\n"
      ]
    },
    {
      "cell_type": "markdown",
      "metadata": {
        "id": "N4DlaagwYZqA"
      },
      "source": [
        "#### Q1: In Year = 2001 how many vedio games are sold and select 20 vedio games and show them in a graph ?"
      ]
    },
    {
      "cell_type": "code",
      "execution_count": null,
      "metadata": {
        "colab": {
          "base_uri": "https://localhost:8080/"
        },
        "id": "CFQjb9Y7YZqB",
        "outputId": "c30d341b-2813-46a4-bd1c-b9f80d2014ff"
      },
      "outputs": [
        {
          "name": "stdout",
          "output_type": "stream",
          "text": [
            "In 2001 -  482 vedio games are sold.\n"
          ]
        }
      ],
      "source": [
        "d2 = vgs_df.query('Year == 2001')['Name']\n",
        "d1 = d2.shape\n",
        "print(\"In 2001 -  %d vedio games are sold.\" %(d1))\n"
      ]
    },
    {
      "cell_type": "code",
      "execution_count": null,
      "metadata": {
        "colab": {
          "base_uri": "https://localhost:8080/"
        },
        "id": "IElbVhhnYZqB",
        "outputId": "2090ace9-b66f-4431-c6a1-4d805d7baddb"
      },
      "outputs": [
        {
          "data": {
            "text/plain": [
              "Madden NFL 2002                          5\n",
              "Harry Potter and the Sorcerer's Stone    4\n",
              "Dave Mirra Freestyle BMX 2               4\n",
              "Tony Hawk's Pro Skater 3                 3\n",
              "FIFA Soccer 2002                         3\n",
              "Max Payne                                3\n",
              "NHL Hitz 20-02                           3\n",
              "The Simpsons: Road Rage                  3\n",
              "Batman: Vengeance                        3\n",
              "NASCAR Thunder 2002                      3\n",
              "MX 2002 Featuring Ricky Carmichael       3\n",
              "NBA Live 2002                            3\n",
              "SSX Tricky                               3\n",
              "Power Rangers: Time Force                2\n",
              "Shaun Palmer's Pro Snowboarder           2\n",
              "Army Men: Green Rogue                    2\n",
              "Disney's Tarzan Untamed                  2\n",
              "Driven                                   2\n",
              "Disney's Atlantis: The Lost Empire       2\n",
              "NFL GameDay 2002                         2\n",
              "Name: Name, dtype: int64"
            ]
          },
          "execution_count": 46,
          "metadata": {},
          "output_type": "execute_result"
        }
      ],
      "source": [
        "d = d2.value_counts().head(20)\n",
        "d"
      ]
    },
    {
      "cell_type": "code",
      "execution_count": null,
      "metadata": {
        "colab": {
          "base_uri": "https://localhost:8080/",
          "height": 631
        },
        "id": "9AuWASLtYZqB",
        "outputId": "7a331b00-0850-4e33-d7ce-fc74418589a9"
      },
      "outputs": [
        {
          "data": {
            "text/plain": [
              "[<matplotlib.lines.Line2D at 0x7fb97f1d0590>]"
            ]
          },
          "execution_count": 47,
          "metadata": {},
          "output_type": "execute_result"
        },
        {
          "data": {
            "image/png": "[encoded data removed]",
            "text/plain": [
              "<Figure size 1080x720 with 1 Axes>"
            ]
          },
          "metadata": {},
          "output_type": "display_data"
        }
      ],
      "source": [
        "plt.figure(figsize=(15,10))\n",
        "plt.xlabel('No. of games')\n",
        "plt.ylabel('Vedio Games')\n",
        "plt.plot(d , d.index)"
      ]
    },
    {
      "cell_type": "markdown",
      "metadata": {
        "id": "JkBFbbyzm1xt"
      },
      "source": [
        "The Above graph is answering our Q.1 as representing the visualization of the Videos games which were launched in the year 2001.\n",
        "X-axis is showing Number of videos games sold and Y-axis is showing the video games which were sold in year 2001."
      ]
    },
    {
      "cell_type": "markdown",
      "metadata": {
        "id": "Ho3kBj0iYZqC"
      },
      "source": [
        "#### Q2: What are % of the Top 10 Global sales?"
      ]
    },
    {
      "cell_type": "code",
      "execution_count": null,
      "metadata": {
        "colab": {
          "base_uri": "https://localhost:8080/"
        },
        "id": "xE5DY9uRYZqD",
        "outputId": "b599d72c-be7a-4a57-a7e1-584196f29e62"
      },
      "outputs": [
        {
          "data": {
            "text/plain": [
              "0    82.74\n",
              "1    40.24\n",
              "2    35.82\n",
              "3    33.00\n",
              "4    31.37\n",
              "5    30.26\n",
              "6    30.01\n",
              "7    29.02\n",
              "8    28.62\n",
              "9    28.31\n",
              "Name: Global_Sales, dtype: float64"
            ]
          },
          "execution_count": 48,
          "metadata": {},
          "output_type": "execute_result"
        }
      ],
      "source": [
        "g1 = vgs_df.Global_Sales.sort_values(ascending = False).head(10)\n",
        "g1\n"
      ]
    },
    {
      "cell_type": "code",
      "execution_count": null,
      "metadata": {
        "colab": {
          "base_uri": "https://localhost:8080/"
        },
        "id": "mV90S5WnYZqD",
        "outputId": "61883c9c-6e25-4198-fc24-4749ce41877e"
      },
      "outputs": [
        {
          "name": "stdout",
          "output_type": "stream",
          "text": [
            "The Top 10 Global Sales are - \n"
          ]
        },
        {
          "data": {
            "text/plain": [
              "0    82.74\n",
              "1    40.24\n",
              "2    35.82\n",
              "3    33.00\n",
              "4    31.37\n",
              "5    30.26\n",
              "6    30.01\n",
              "7    29.02\n",
              "8    28.62\n",
              "9    28.31\n",
              "Name: Global_Sales, dtype: float64"
            ]
          },
          "execution_count": 100,
          "metadata": {},
          "output_type": "execute_result"
        }
      ],
      "source": [
        "print(\"The Top 10 Global Sales are - \" ) \n",
        "g1"
      ]
    },
    {
      "cell_type": "markdown",
      "metadata": {
        "id": "Lw5CG2ztntQs"
      },
      "source": [
        "The above is the answer to the Q.2 which is clearing us about the Top most Global Sales of the Video Games which were sold.\n",
        "Hence we are getting that the Top global sales is of 82.74 ."
      ]
    },
    {
      "cell_type": "markdown",
      "metadata": {
        "id": "DyVW_7idYZqE"
      },
      "source": [
        "#### Q3: Which Genre has the highest number of games?"
      ]
    },
    {
      "cell_type": "code",
      "execution_count": null,
      "metadata": {
        "colab": {
          "base_uri": "https://localhost:8080/"
        },
        "id": "lHqP6CXeYZqE",
        "outputId": "65b65f35-1c10-4d63-e634-30d90db8495c"
      },
      "outputs": [
        {
          "data": {
            "text/plain": [
              "Genre\n",
              "Action    3316\n",
              "Name: Name, dtype: int64"
            ]
          },
          "execution_count": 49,
          "metadata": {},
          "output_type": "execute_result"
        }
      ],
      "source": [
        "h1 = vgs_df.groupby('Genre')['Name'].count().head(1)\n",
        "h1"
      ]
    },
    {
      "cell_type": "code",
      "execution_count": null,
      "metadata": {
        "colab": {
          "base_uri": "https://localhost:8080/"
        },
        "id": "XoWfp0pbYZqE",
        "outputId": "4c8a319f-abca-48c7-b9f5-a4695f67ee08"
      },
      "outputs": [
        {
          "name": "stdout",
          "output_type": "stream",
          "text": [
            "So, the highest number games is present in Genre :-\n"
          ]
        },
        {
          "data": {
            "text/plain": [
              "Genre\n",
              "Action    3316\n",
              "Name: Name, dtype: int64"
            ]
          },
          "execution_count": 50,
          "metadata": {},
          "output_type": "execute_result"
        }
      ],
      "source": [
        "print(\"So, the highest number games is present in Genre :-\")\n",
        "h1"
      ]
    },
    {
      "cell_type": "markdown",
      "metadata": {
        "id": "zTRUQr58oVYS"
      },
      "source": [
        "Here, is the answer for the Q3. which is telling us the highest number of video games are in action Genre (3316)."
      ]
    },
    {
      "cell_type": "markdown",
      "metadata": {
        "id": "MIhQpULPYZqF"
      },
      "source": [
        "#### Q4: What are the first 10 Vedio Games?"
      ]
    },
    {
      "cell_type": "code",
      "execution_count": null,
      "metadata": {
        "colab": {
          "base_uri": "https://localhost:8080/",
          "height": 455
        },
        "id": "DuQxz5jAYZqJ",
        "outputId": "f7824db5-eec4-4aa6-8992-f12d714fc1b4"
      },
      "outputs": [
        {
          "data": {
            "text/html": [
              "\n",
              "  <div id=\"df-052666e7-7a14-4443-b4ed-f8437eab4ea2\">\n",
              "    <div class=\"colab-df-container\">\n",
              "      <div>\n",
              "<style scoped>\n",
              "    .dataframe tbody tr th:only-of-type {\n",
              "        vertical-align: middle;\n",
              "    }\n",
              "\n",
              "    .dataframe tbody tr th {\n",
              "        vertical-align: top;\n",
              "    }\n",
              "\n",
              "    .dataframe thead th {\n",
              "        text-align: right;\n",
              "    }\n",
              "</style>\n",
              "<table border=\"1\" class=\"dataframe\">\n",
              "  <thead>\n",
              "    <tr style=\"text-align: right;\">\n",
              "      <th></th>\n",
              "      <th>Year</th>\n",
              "      <th>Global_Sales</th>\n",
              "    </tr>\n",
              "    <tr>\n",
              "      <th>Name</th>\n",
              "      <th></th>\n",
              "      <th></th>\n",
              "    </tr>\n",
              "  </thead>\n",
              "  <tbody>\n",
              "    <tr>\n",
              "      <th>'98 Koshien</th>\n",
              "      <td>1998.0</td>\n",
              "      <td>0.410</td>\n",
              "    </tr>\n",
              "    <tr>\n",
              "      <th>.hack//G.U. Vol.1//Rebirth</th>\n",
              "      <td>2006.0</td>\n",
              "      <td>0.170</td>\n",
              "    </tr>\n",
              "    <tr>\n",
              "      <th>.hack//G.U. Vol.2//Reminisce</th>\n",
              "      <td>2006.0</td>\n",
              "      <td>0.230</td>\n",
              "    </tr>\n",
              "    <tr>\n",
              "      <th>.hack//G.U. Vol.2//Reminisce (jp sales)</th>\n",
              "      <td>2006.0</td>\n",
              "      <td>0.160</td>\n",
              "    </tr>\n",
              "    <tr>\n",
              "      <th>.hack//G.U. Vol.3//Redemption</th>\n",
              "      <td>2007.0</td>\n",
              "      <td>0.170</td>\n",
              "    </tr>\n",
              "    <tr>\n",
              "      <th>...</th>\n",
              "      <td>...</td>\n",
              "      <td>...</td>\n",
              "    </tr>\n",
              "    <tr>\n",
              "      <th>thinkSMART: Chess for Kids</th>\n",
              "      <td>2011.0</td>\n",
              "      <td>0.010</td>\n",
              "    </tr>\n",
              "    <tr>\n",
              "      <th>uDraw Studio</th>\n",
              "      <td>2010.0</td>\n",
              "      <td>2.460</td>\n",
              "    </tr>\n",
              "    <tr>\n",
              "      <th>uDraw Studio: Instant Artist</th>\n",
              "      <td>2011.0</td>\n",
              "      <td>0.105</td>\n",
              "    </tr>\n",
              "    <tr>\n",
              "      <th>wwe Smackdown vs. Raw 2006</th>\n",
              "      <td>NaN</td>\n",
              "      <td>3.000</td>\n",
              "    </tr>\n",
              "    <tr>\n",
              "      <th>¡Shin Chan Flipa en colores!</th>\n",
              "      <td>2007.0</td>\n",
              "      <td>0.140</td>\n",
              "    </tr>\n",
              "  </tbody>\n",
              "</table>\n",
              "<p>11493 rows × 2 columns</p>\n",
              "</div>\n",
              "      <button class=\"colab-df-convert\" onclick=\"convertToInteractive('df-052666e7-7a14-4443-b4ed-f8437eab4ea2')\"\n",
              "              title=\"Convert this dataframe to an interactive table.\"\n",
              "              style=\"display:none;\">\n",
              "        \n",
              "  <svg xmlns=\"http://www.w3.org/2000/svg\" height=\"24px\"viewBox=\"0 0 24 24\"\n",
              "       width=\"24px\">\n",
              "    <path d=\"M0 0h24v24H0V0z\" fill=\"none\"/>\n",
              "    <path d=\"M18.56 5.44l.94 2.06.94-2.06 2.06-.94-2.06-.94-.94-2.06-.94 2.06-2.06.94zm-11 1L8.5 8.5l.94-2.06 2.06-.94-2.06-.94L8.5 2.5l-.94 2.06-2.06.94zm10 10l.94 2.06.94-2.06 2.06-.94-2.06-.94-.94-2.06-.94 2.06-2.06.94z\"/><path d=\"M17.41 7.96l-1.37-1.37c-.4-.4-.92-.59-1.43-.59-.52 0-1.04.2-1.43.59L10.3 9.45l-7.72 7.72c-.78.78-.78 2.05 0 2.83L4 21.41c.39.39.9.59 1.41.59.51 0 1.02-.2 1.41-.59l7.78-7.78 2.81-2.81c.8-.78.8-2.07 0-2.86zM5.41 20L4 18.59l7.72-7.72 1.47 1.35L5.41 20z\"/>\n",
              "  </svg>\n",
              "      </button>\n",
              "      \n",
              "  <style>\n",
              "    .colab-df-container {\n",
              "      display:flex;\n",
              "      flex-wrap:wrap;\n",
              "      gap: 12px;\n",
              "    }\n",
              "\n",
              "    .colab-df-convert {\n",
              "      background-color: #E8F0FE;\n",
              "      border: none;\n",
              "      border-radius: 50%;\n",
              "      cursor: pointer;\n",
              "      display: none;\n",
              "      fill: #1967D2;\n",
              "      height: 32px;\n",
              "      padding: 0 0 0 0;\n",
              "      width: 32px;\n",
              "    }\n",
              "\n",
              "    .colab-df-convert:hover {\n",
              "      background-color: #E2EBFA;\n",
              "      box-shadow: 0px 1px 2px rgba(60, 64, 67, 0.3), 0px 1px 3px 1px rgba(60, 64, 67, 0.15);\n",
              "      fill: #174EA6;\n",
              "    }\n",
              "\n",
              "    [theme=dark] .colab-df-convert {\n",
              "      background-color: #3B4455;\n",
              "      fill: #D2E3FC;\n",
              "    }\n",
              "\n",
              "    [theme=dark] .colab-df-convert:hover {\n",
              "      background-color: #434B5C;\n",
              "      box-shadow: 0px 1px 3px 1px rgba(0, 0, 0, 0.15);\n",
              "      filter: drop-shadow(0px 1px 2px rgba(0, 0, 0, 0.3));\n",
              "      fill: #FFFFFF;\n",
              "    }\n",
              "  </style>\n",
              "\n",
              "      <script>\n",
              "        const buttonEl =\n",
              "          document.querySelector('#df-052666e7-7a14-4443-b4ed-f8437eab4ea2 button.colab-df-convert');\n",
              "        buttonEl.style.display =\n",
              "          google.colab.kernel.accessAllowed ? 'block' : 'none';\n",
              "\n",
              "        async function convertToInteractive(key) {\n",
              "          const element = document.querySelector('#df-052666e7-7a14-4443-b4ed-f8437eab4ea2');\n",
              "          const dataTable =\n",
              "            await google.colab.kernel.invokeFunction('convertToInteractive',\n",
              "                                                     [key], {});\n",
              "          if (!dataTable) return;\n",
              "\n",
              "          const docLinkHtml = 'Like what you see? Visit the ' +\n",
              "            '<a target=\"_blank\" href=https://colab.research.google.com/notebooks/data_table.ipynb>data table notebook</a>'\n",
              "            + ' to learn more about interactive tables.';\n",
              "          element.innerHTML = '';\n",
              "          dataTable['output_type'] = 'display_data';\n",
              "          await google.colab.output.renderOutput(dataTable, element);\n",
              "          const docLink = document.createElement('div');\n",
              "          docLink.innerHTML = docLinkHtml;\n",
              "          element.appendChild(docLink);\n",
              "        }\n",
              "      </script>\n",
              "    </div>\n",
              "  </div>\n",
              "  "
            ],
            "text/plain": [
              "                                           Year  Global_Sales\n",
              "Name                                                         \n",
              "'98 Koshien                              1998.0         0.410\n",
              ".hack//G.U. Vol.1//Rebirth               2006.0         0.170\n",
              ".hack//G.U. Vol.2//Reminisce             2006.0         0.230\n",
              ".hack//G.U. Vol.2//Reminisce (jp sales)  2006.0         0.160\n",
              ".hack//G.U. Vol.3//Redemption            2007.0         0.170\n",
              "...                                         ...           ...\n",
              "thinkSMART: Chess for Kids               2011.0         0.010\n",
              "uDraw Studio                             2010.0         2.460\n",
              "uDraw Studio: Instant Artist             2011.0         0.105\n",
              "wwe Smackdown vs. Raw 2006                  NaN         3.000\n",
              "¡Shin Chan Flipa en colores!             2007.0         0.140\n",
              "\n",
              "[11493 rows x 2 columns]"
            ]
          },
          "execution_count": 53,
          "metadata": {},
          "output_type": "execute_result"
        }
      ],
      "source": [
        "h =vgs_df.groupby('Name')[['Year' , 'Global_Sales']].mean()\n",
        "h"
      ]
    },
    {
      "cell_type": "code",
      "execution_count": null,
      "metadata": {
        "colab": {
          "base_uri": "https://localhost:8080/"
        },
        "id": "-x7lmiJQIiu5",
        "outputId": "60a9ef4a-ddec-4951-89f9-47a76e2794c9"
      },
      "outputs": [
        {
          "data": {
            "text/plain": [
              "Name\n",
              "Bridge                                        1980.0\n",
              "Freeway                                       1980.0\n",
              "Kaboom!                                       1980.0\n",
              "Checkers                                      1980.0\n",
              "Reactor                                       1981.0\n",
              "                                               ...  \n",
              "Yu Yu Hakusho: Dark Tournament                   NaN\n",
              "Yu-Gi-Oh! 5D's Wheelie Breakers (JP sales)       NaN\n",
              "Zero: Tsukihami no Kamen                         NaN\n",
              "eJay Clubworld                                   NaN\n",
              "wwe Smackdown vs. Raw 2006                       NaN\n",
              "Name: Year, Length: 11493, dtype: float64"
            ]
          },
          "execution_count": 54,
          "metadata": {},
          "output_type": "execute_result"
        }
      ],
      "source": [
        "j= h.Year.sort_values()\n",
        "j"
      ]
    },
    {
      "cell_type": "code",
      "execution_count": null,
      "metadata": {
        "colab": {
          "base_uri": "https://localhost:8080/"
        },
        "id": "vu5AmTVOYZqK",
        "outputId": "c01d9ce3-370c-4631-b25b-ab97e554dab1"
      },
      "outputs": [
        {
          "name": "stdout",
          "output_type": "stream",
          "text": [
            "The First 10 oldest Vedio games are :-\n"
          ]
        },
        {
          "data": {
            "text/plain": [
              "Name\n",
              "Bridge                     1980.0\n",
              "Freeway                    1980.0\n",
              "Kaboom!                    1980.0\n",
              "Checkers                   1980.0\n",
              "Reactor                    1981.0\n",
              "Raiders of the Lost Ark    1981.0\n",
              "Front Line                 1981.0\n",
              "Airlock                    1981.0\n",
              "River Raid                 1981.0\n",
              "Grand Prix                 1981.0\n",
              "Name: Year, dtype: float64"
            ]
          },
          "execution_count": 55,
          "metadata": {},
          "output_type": "execute_result"
        }
      ],
      "source": [
        "p = j.head(10)\n",
        "\n",
        "print(\"The First 10 oldest Vedio games are :-\")\n",
        "p"
      ]
    },
    {
      "cell_type": "markdown",
      "metadata": {
        "id": "dyuqJZHuoyzR"
      },
      "source": [
        "Here, is the Explaination answer of Q4 : which is giving us the list of first 10 video games which are oldest among all the video games which is present in our dataset. The is as :\n",
        "\n",
        "Bridge,                     \n",
        "Freeway,                    \n",
        "Kaboom!,                    \n",
        "Checkers,                   \n",
        "Reactor,                    \n",
        "Raiders of the Lost Ark ,   \n",
        "Front Line ,             \n",
        "Airlock ,                   \n",
        "River Raid ,                \n",
        "Grand Prix .                \n"
      ]
    },
    {
      "cell_type": "markdown",
      "metadata": {
        "id": "CITr0w-hYZqK"
      },
      "source": [
        "#### Q5: How is the role Publisher as per the increasing time?"
      ]
    },
    {
      "cell_type": "markdown",
      "metadata": {
        "id": "Mu2HCdGYQSLF"
      },
      "source": [
        "Now, our dataset is too big. so we will select 100 row and analysis from here"
      ]
    },
    {
      "cell_type": "code",
      "execution_count": null,
      "metadata": {
        "id": "IcyjM7fbPceX"
      },
      "outputs": [],
      "source": [
        "pl = vgs_df.head(100)"
      ]
    },
    {
      "cell_type": "markdown",
      "metadata": {
        "id": "DMaimb2IQuit"
      },
      "source": [
        "here we will use seaborn module to plot the scatter image for the data of publisher with comparision with year."
      ]
    },
    {
      "cell_type": "code",
      "execution_count": null,
      "metadata": {
        "colab": {
          "base_uri": "https://localhost:8080/",
          "height": 1000
        },
        "id": "bQCzagZuYZqK",
        "outputId": "55b7dd4c-91d2-4e3b-a4ec-55042cb29694"
      },
      "outputs": [
        {
          "data": {
            "text/plain": [
              "Text(0, 0.5, 'Publisher')"
            ]
          },
          "execution_count": 65,
          "metadata": {},
          "output_type": "execute_result"
        },
        {
          "data": {
            "image/png": "[encoded data removed]",
            "text/plain": [
              "<Figure size 1800x1440 with 1 Axes>"
            ]
          },
          "metadata": {},
          "output_type": "display_data"
        }
      ],
      "source": [
        "plt.figure(figsize=(25,20))\n",
        "sns.scatterplot(data=pl, x=\"Year\", y=\"Publisher\")\n",
        "plt.xlabel(\"Year\")\n",
        "plt.ylabel(\"Publisher\")"
      ]
    },
    {
      "cell_type": "markdown",
      "metadata": {
        "id": "YRAX5g9Zp8cP"
      },
      "source": [
        "Now, here is explaination of Q5.\n",
        "The above scatter graph will make us understand the role of publishers as per the increasing years which is making us clear that the publisher named nintendo is present in every decade of years.\n",
        "Hence, it is making us clear that the publisher 'nintendo' is among the top publishers which publishes the video games per the trends of the present generations which is making his existence in the top among all the publishers."
      ]
    },
    {
      "cell_type": "markdown",
      "metadata": {
        "id": "-gmuj1sFYZqL"
      },
      "source": [
        "Let us save and upload our work to Jovian before continuing."
      ]
    },
    {
      "cell_type": "code",
      "execution_count": null,
      "metadata": {
        "id": "lDaLoTKvYZqM"
      },
      "outputs": [],
      "source": [
        "import jovian"
      ]
    },
    {
      "cell_type": "code",
      "execution_count": null,
      "metadata": {
        "colab": {
          "base_uri": "https://localhost:8080/",
          "height": 88
        },
        "id": "_0NLubVTYZqM",
        "outputId": "a7f21c89-d0ff-4e8b-8647-72dad5c66964"
      },
      "outputs": [
        {
          "name": "stdout",
          "output_type": "stream",
          "text": [
            "[jovian] Detected Colab notebook...\u001b[0m\n",
            "[jovian] Uploading colab notebook to Jovian...\u001b[0m\n",
            "Committed successfully! https://jovian.ai/pandeyharshit268/vediogamesales\n"
          ]
        },
        {
          "data": {
            "application/vnd.google.colaboratory.intrinsic+json": {
              "type": "string"
            },
            "text/plain": [
              "'https://jovian.ai/pandeyharshit268/vediogamesales'"
            ]
          },
          "execution_count": 67,
          "metadata": {},
          "output_type": "execute_result"
        }
      ],
      "source": [
        "jovian.commit()"
      ]
    },
    {
      "cell_type": "markdown",
      "metadata": {
        "id": "B8PCBbtrrj5v"
      },
      "source": [
        "Now, we have successfully saved our project to the jovian account using the command jovian.commit(project_name)"
      ]
    },
    {
      "cell_type": "markdown",
      "metadata": {
        "id": "GYEtCNrtYZqN"
      },
      "source": [
        "We have made my interesting inferences and conclusion from this dataset of Vedio games sale which are as follows:-\n",
        "\n",
        "1. Majority of the vedio games are based on ACTION genre.\n",
        "2. The global sales of vedios games was increasing as per the time.\n",
        "3. The count of global sales is 16598.\n",
        "4. Need for speed most wanted was highest populated among the other.\n",
        "5. New platforms were also launched as per the increasing demands."
      ]
    },
    {
      "cell_type": "code",
      "execution_count": null,
      "metadata": {
        "id": "yWEkyHuZYZqN"
      },
      "outputs": [],
      "source": [
        "import jovian"
      ]
    },
    {
      "cell_type": "code",
      "execution_count": null,
      "metadata": {
        "colab": {
          "base_uri": "https://localhost:8080/",
          "height": 88
        },
        "id": "SPR1mxD1YZqO",
        "outputId": "ee8ede3c-0bb6-4148-d45b-c5eaf17ab0d2"
      },
      "outputs": [
        {
          "name": "stdout",
          "output_type": "stream",
          "text": [
            "[jovian] Detected Colab notebook...\u001b[0m\n",
            "[jovian] Uploading colab notebook to Jovian...\u001b[0m\n",
            "Committed successfully! https://jovian.ai/pandeyharshit268/vediogamesales\n"
          ]
        },
        {
          "data": {
            "application/vnd.google.colaboratory.intrinsic+json": {
              "type": "string"
            },
            "text/plain": [
              "'https://jovian.ai/pandeyharshit268/vediogamesales'"
            ]
          },
          "execution_count": 61,
          "metadata": {},
          "output_type": "execute_result"
        }
      ],
      "source": [
        "jovian.commit()"
      ]
    },
    {
      "cell_type": "markdown",
      "metadata": {
        "id": "WabSg3s0rsam"
      },
      "source": [
        "Now, we have successfully saved our project to the jovian account using the command jovian.commit(project_name)"
      ]
    },
    {
      "cell_type": "markdown",
      "metadata": {
        "id": "JjtplCAnYZqO"
      },
      "source": [
        "As we have come to know that there was the drastic increase in global sales as per the time.\n",
        "We have some more ideas for further analysis :    \n",
        "1- Create some columns to know the sales as per different country.\n",
        "\n",
        "2- We can create which genders buys games of which genre.\n",
        "\n",
        "3- compare the sales with the publishers.\n",
        "\n",
        "\n",
        "\n",
        "\n",
        "Reference : \n",
        "kaggle for downloading the dataset : https://www.kaggle.com/kedokedokedo/vgsales\n",
        "Python Libraries such as pandas, Numpy, Os, Seaborn, matplotlib.pyplot. : https://www.python.org/doc/\n"
      ]
    },
    {
      "cell_type": "code",
      "execution_count": null,
      "metadata": {
        "id": "QBGuGDD0YZqP"
      },
      "outputs": [],
      "source": [
        "import jovian"
      ]
    },
    {
      "cell_type": "markdown",
      "metadata": {
        "id": "UJbFxeOxshx2"
      },
      "source": [
        "Now, Here we have done with our data analysis of video games sales by differrent aspects."
      ]
    },
    {
      "cell_type": "code",
      "execution_count": null,
      "metadata": {
        "colab": {
          "base_uri": "https://localhost:8080/",
          "height": 88
        },
        "id": "vnDNLLzGYZqQ",
        "outputId": "240f9577-41f1-4893-b546-225f33bb501b",
        "scrolled": true
      },
      "outputs": [
        {
          "name": "stdout",
          "output_type": "stream",
          "text": [
            "[jovian] Detected Colab notebook...\u001b[0m\n",
            "[jovian] Uploading colab notebook to Jovian...\u001b[0m\n",
            "Committed successfully! https://jovian.ai/pandeyharshit268/vediogamesales\n"
          ]
        },
        {
          "data": {
            "application/vnd.google.colaboratory.intrinsic+json": {
              "type": "string"
            },
            "text/plain": [
              "'https://jovian.ai/pandeyharshit268/vediogamesales'"
            ]
          },
          "execution_count": 69,
          "metadata": {},
          "output_type": "execute_result"
        }
      ],
      "source": [
        "jovian.commit()"
      ]
    },
    {
      "cell_type": "markdown",
      "metadata": {
        "id": "hGwT_tpJr-v1"
      },
      "source": [
        ""
      ]
    }
  ],
  "metadata": {
    "colab": {
      "collapsed_sections": [
        "JjtplCAnYZqO"
      ],
      "name": "zerotopandas-course-project.ipynb",
      "provenance": []
    },
    "kernelspec": {
      "display_name": "Python 3",
      "language": "python",
      "name": "python3"
    },
    "language_info": {
      "codemirror_mode": {
        "name": "ipython",
        "version": 3
      },
      "file_extension": ".py",
      "mimetype": "text/x-python",
      "name": "python",
      "nbconvert_exporter": "python",
      "pygments_lexer": "ipython3",
      "version": "3.8.5"
    }
  },
  "nbformat": 4,
  "nbformat_minor": 0
}